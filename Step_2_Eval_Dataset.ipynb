{
  "nbformat": 4,
  "nbformat_minor": 0,
  "metadata": {
    "colab": {
      "provenance": [],
      "authorship_tag": "ABX9TyNIKDBAomx1PP4ImSY9/hHd",
      "include_colab_link": true
    },
    "kernelspec": {
      "name": "python3",
      "display_name": "Python 3"
    },
    "language_info": {
      "name": "python"
    }
  },
  "cells": [
    {
      "cell_type": "markdown",
      "metadata": {
        "id": "view-in-github",
        "colab_type": "text"
      },
      "source": [
        "<a href=\"https://colab.research.google.com/github/xprilion/gemini-as-a-judge-for-rag-evals/blob/main/Step_2_Eval_Dataset.ipynb\" target=\"_parent\"><img src=\"https://colab.research.google.com/assets/colab-badge.svg\" alt=\"Open In Colab\"/></a>"
      ]
    },
    {
      "cell_type": "markdown",
      "source": [
        "# Gemini As A Judge for RAG Evals"
      ],
      "metadata": {
        "id": "7z-PmxJzF3w5"
      }
    },
    {
      "cell_type": "markdown",
      "source": [
        "## Evaluation Dataset"
      ],
      "metadata": {
        "id": "EZa7H_5XF-hb"
      }
    },
    {
      "cell_type": "markdown",
      "source": [
        "### 1. Load the datasets"
      ],
      "metadata": {
        "id": "HWjUjRwKG8XN"
      }
    },
    {
      "cell_type": "code",
      "execution_count": null,
      "metadata": {
        "colab": {
          "base_uri": "https://localhost:8080/"
        },
        "id": "FBLjwX7fCl13",
        "outputId": "ea7ce2dd-bb51-4a44-b66d-e2ffecbdbe93"
      },
      "outputs": [
        {
          "output_type": "stream",
          "name": "stdout",
          "text": [
            "--2025-03-01 02:06:49--  https://raw.githubusercontent.com/567-labs/systematically-improving-rag/refs/heads/main/cohort_1/week1_bootstrap_evals/reviews.json\n",
            "Resolving raw.githubusercontent.com (raw.githubusercontent.com)... 185.199.108.133, 185.199.110.133, 185.199.109.133, ...\n",
            "Connecting to raw.githubusercontent.com (raw.githubusercontent.com)|185.199.108.133|:443... connected.\n",
            "HTTP request sent, awaiting response... 200 OK\n",
            "Length: 507865 (496K) [text/plain]\n",
            "Saving to: ‘reviews.json’\n",
            "\n",
            "reviews.json        100%[===================>] 495.96K  --.-KB/s    in 0.05s   \n",
            "\n",
            "2025-03-01 02:06:50 (10.3 MB/s) - ‘reviews.json’ saved [507865/507865]\n",
            "\n"
          ]
        }
      ],
      "source": [
        "!wget https://raw.githubusercontent.com/567-labs/systematically-improving-rag/refs/heads/main/cohort_1/week1_bootstrap_evals/reviews.json"
      ]
    },
    {
      "cell_type": "markdown",
      "source": [
        "### Packages"
      ],
      "metadata": {
        "id": "i8siIxiEIu-2"
      }
    },
    {
      "cell_type": "code",
      "source": [
        "%%capture\n",
        "!pip install qdrant-client[fastembed]\n",
        "!pip install google-genai"
      ],
      "metadata": {
        "id": "UJy2rKEyIuoK"
      },
      "execution_count": null,
      "outputs": []
    },
    {
      "cell_type": "markdown",
      "source": [
        "### Imports"
      ],
      "metadata": {
        "id": "rRd-Y1Z4HFWu"
      }
    },
    {
      "cell_type": "code",
      "source": [
        "import pandas as pd\n",
        "import json\n",
        "import os\n",
        "import time\n",
        "from tqdm import tqdm\n",
        "from google import genai\n",
        "from google.genai import types\n",
        "from qdrant_client import QdrantClient\n",
        "from qdrant_client.models import Distance, VectorParams\n",
        "import uuid\n",
        "import random\n",
        "\n",
        "from google.colab import userdata"
      ],
      "metadata": {
        "id": "u6landw4G5CS"
      },
      "execution_count": null,
      "outputs": []
    },
    {
      "cell_type": "markdown",
      "source": [
        "### Helpers"
      ],
      "metadata": {
        "id": "6ASIJ0OTXUQ9"
      }
    },
    {
      "cell_type": "code",
      "source": [
        "collection_name = \"product_reviews\""
      ],
      "metadata": {
        "id": "M1-pzDF5ZMnw"
      },
      "execution_count": null,
      "outputs": []
    },
    {
      "cell_type": "code",
      "source": [
        "GEMINI_KEY = userdata.get('GEMINI_API_KEY')\n",
        "gemini_client = genai.Client(\n",
        "    api_key=GEMINI_KEY\n",
        ")"
      ],
      "metadata": {
        "id": "gA4qxypZXVSU"
      },
      "execution_count": null,
      "outputs": []
    },
    {
      "cell_type": "code",
      "source": [
        "def getGeminiResponse(prompt, max_tokens=8192, response_type=\"application/json\"):\n",
        "    contents = [\n",
        "        types.Content(\n",
        "            role=\"user\",\n",
        "            parts=[\n",
        "                types.Part.from_text(\n",
        "                    text=prompt\n",
        "                ),\n",
        "            ],\n",
        "        ),\n",
        "    ]\n",
        "    generate_content_config = types.GenerateContentConfig(\n",
        "        temperature=0,\n",
        "        top_p=0.95,\n",
        "        top_k=40,\n",
        "        max_output_tokens=max_tokens,\n",
        "        response_mime_type=response_type,\n",
        "        response_schema=genai.types.Schema(\n",
        "            type = genai.types.Type.OBJECT,\n",
        "            enum = [],\n",
        "            required = [\"query_pair\"],\n",
        "            properties = {\n",
        "                \"query_pair\": genai.types.Schema(\n",
        "                    type = genai.types.Type.ARRAY,\n",
        "                    items = genai.types.Schema(\n",
        "                        type = genai.types.Type.OBJECT,\n",
        "                        enum = [],\n",
        "                        required = [\"question\", \"answer\", \"matched_indexes\"],\n",
        "                        properties = {\n",
        "                            \"question\": genai.types.Schema(\n",
        "                                type = genai.types.Type.STRING,\n",
        "                            ),\n",
        "                            \"answer\": genai.types.Schema(\n",
        "                                type = genai.types.Type.STRING,\n",
        "                            ),\n",
        "                            \"matched_indexes\": genai.types.Schema(\n",
        "                                type = genai.types.Type.ARRAY,\n",
        "                                items = genai.types.Schema(\n",
        "                                    type = genai.types.Type.NUMBER,\n",
        "                                ),\n",
        "                            ),\n",
        "                        },\n",
        "                    ),\n",
        "                ),\n",
        "            },\n",
        "        ),\n",
        "    )\n",
        "    response = gemini_client.models.generate_content(\n",
        "        model=\"gemini-2.0-flash\", contents=contents, config=generate_content_config\n",
        "    )\n",
        "    return response.text"
      ],
      "metadata": {
        "id": "-j7toHuxYuux"
      },
      "execution_count": null,
      "outputs": []
    },
    {
      "cell_type": "code",
      "source": [
        "getGeminiResponse(\"What is 2+3?\")"
      ],
      "metadata": {
        "colab": {
          "base_uri": "https://localhost:8080/",
          "height": 53
        },
        "id": "Nm6lU5u6Y8WX",
        "outputId": "2124a832-252a-4190-b0f7-4242942e9401"
      },
      "execution_count": null,
      "outputs": [
        {
          "output_type": "execute_result",
          "data": {
            "text/plain": [
              "'{\\n  \"query_pair\": [\\n    {\\n      \"answer\": \"5\",\\n      \"matched_indexes\": [],\\n      \"question\": \"What is 2+3?\"\\n    }\\n  ]\\n}'"
            ],
            "application/vnd.google.colaboratory.intrinsic+json": {
              "type": "string"
            }
          },
          "metadata": {},
          "execution_count": 26
        }
      ]
    },
    {
      "cell_type": "markdown",
      "source": [
        "### EDA"
      ],
      "metadata": {
        "id": "eRd7drJqHqGh"
      }
    },
    {
      "cell_type": "code",
      "source": [
        "df = pd.read_json('reviews.json')"
      ],
      "metadata": {
        "id": "8uMt4eB_HfuA"
      },
      "execution_count": null,
      "outputs": []
    },
    {
      "cell_type": "code",
      "source": [
        "df.head()"
      ],
      "metadata": {
        "colab": {
          "base_uri": "https://localhost:8080/",
          "height": 206
        },
        "id": "tBRn0-xmHjHQ",
        "outputId": "742224e2-9cd1-40d6-93f0-8ec8b01b931a"
      },
      "execution_count": null,
      "outputs": [
        {
          "output_type": "execute_result",
          "data": {
            "text/plain": [
              "  product_title                                product_description  \\\n",
              "0        Hammer  This 16 oz claw hammer is perfect for general ...   \n",
              "1        Hammer  This 16 oz claw hammer is perfect for general ...   \n",
              "2        Hammer  This 16 oz claw hammer is perfect for general ...   \n",
              "3        Hammer  This 16 oz claw hammer is perfect for general ...   \n",
              "4        Hammer  This 16 oz claw hammer is perfect for general ...   \n",
              "\n",
              "                                              review  \n",
              "0  I've been using this hammer for a few months n...  \n",
              "1  This hammer is a solid addition to my toolbox....  \n",
              "2  I purchased this hammer for some home renovati...  \n",
              "3  As a professional carpenter, I rely on my tool...  \n",
              "4  This hammer is a great value for the price. Th...  "
            ],
            "text/html": [
              "\n",
              "  <div id=\"df-b204c813-df70-481d-9ab8-c0db18bd0eaa\" class=\"colab-df-container\">\n",
              "    <div>\n",
              "<style scoped>\n",
              "    .dataframe tbody tr th:only-of-type {\n",
              "        vertical-align: middle;\n",
              "    }\n",
              "\n",
              "    .dataframe tbody tr th {\n",
              "        vertical-align: top;\n",
              "    }\n",
              "\n",
              "    .dataframe thead th {\n",
              "        text-align: right;\n",
              "    }\n",
              "</style>\n",
              "<table border=\"1\" class=\"dataframe\">\n",
              "  <thead>\n",
              "    <tr style=\"text-align: right;\">\n",
              "      <th></th>\n",
              "      <th>product_title</th>\n",
              "      <th>product_description</th>\n",
              "      <th>review</th>\n",
              "    </tr>\n",
              "  </thead>\n",
              "  <tbody>\n",
              "    <tr>\n",
              "      <th>0</th>\n",
              "      <td>Hammer</td>\n",
              "      <td>This 16 oz claw hammer is perfect for general ...</td>\n",
              "      <td>I've been using this hammer for a few months n...</td>\n",
              "    </tr>\n",
              "    <tr>\n",
              "      <th>1</th>\n",
              "      <td>Hammer</td>\n",
              "      <td>This 16 oz claw hammer is perfect for general ...</td>\n",
              "      <td>This hammer is a solid addition to my toolbox....</td>\n",
              "    </tr>\n",
              "    <tr>\n",
              "      <th>2</th>\n",
              "      <td>Hammer</td>\n",
              "      <td>This 16 oz claw hammer is perfect for general ...</td>\n",
              "      <td>I purchased this hammer for some home renovati...</td>\n",
              "    </tr>\n",
              "    <tr>\n",
              "      <th>3</th>\n",
              "      <td>Hammer</td>\n",
              "      <td>This 16 oz claw hammer is perfect for general ...</td>\n",
              "      <td>As a professional carpenter, I rely on my tool...</td>\n",
              "    </tr>\n",
              "    <tr>\n",
              "      <th>4</th>\n",
              "      <td>Hammer</td>\n",
              "      <td>This 16 oz claw hammer is perfect for general ...</td>\n",
              "      <td>This hammer is a great value for the price. Th...</td>\n",
              "    </tr>\n",
              "  </tbody>\n",
              "</table>\n",
              "</div>\n",
              "    <div class=\"colab-df-buttons\">\n",
              "\n",
              "  <div class=\"colab-df-container\">\n",
              "    <button class=\"colab-df-convert\" onclick=\"convertToInteractive('df-b204c813-df70-481d-9ab8-c0db18bd0eaa')\"\n",
              "            title=\"Convert this dataframe to an interactive table.\"\n",
              "            style=\"display:none;\">\n",
              "\n",
              "  <svg xmlns=\"http://www.w3.org/2000/svg\" height=\"24px\" viewBox=\"0 -960 960 960\">\n",
              "    <path d=\"M120-120v-720h720v720H120Zm60-500h600v-160H180v160Zm220 220h160v-160H400v160Zm0 220h160v-160H400v160ZM180-400h160v-160H180v160Zm440 0h160v-160H620v160ZM180-180h160v-160H180v160Zm440 0h160v-160H620v160Z\"/>\n",
              "  </svg>\n",
              "    </button>\n",
              "\n",
              "  <style>\n",
              "    .colab-df-container {\n",
              "      display:flex;\n",
              "      gap: 12px;\n",
              "    }\n",
              "\n",
              "    .colab-df-convert {\n",
              "      background-color: #E8F0FE;\n",
              "      border: none;\n",
              "      border-radius: 50%;\n",
              "      cursor: pointer;\n",
              "      display: none;\n",
              "      fill: #1967D2;\n",
              "      height: 32px;\n",
              "      padding: 0 0 0 0;\n",
              "      width: 32px;\n",
              "    }\n",
              "\n",
              "    .colab-df-convert:hover {\n",
              "      background-color: #E2EBFA;\n",
              "      box-shadow: 0px 1px 2px rgba(60, 64, 67, 0.3), 0px 1px 3px 1px rgba(60, 64, 67, 0.15);\n",
              "      fill: #174EA6;\n",
              "    }\n",
              "\n",
              "    .colab-df-buttons div {\n",
              "      margin-bottom: 4px;\n",
              "    }\n",
              "\n",
              "    [theme=dark] .colab-df-convert {\n",
              "      background-color: #3B4455;\n",
              "      fill: #D2E3FC;\n",
              "    }\n",
              "\n",
              "    [theme=dark] .colab-df-convert:hover {\n",
              "      background-color: #434B5C;\n",
              "      box-shadow: 0px 1px 3px 1px rgba(0, 0, 0, 0.15);\n",
              "      filter: drop-shadow(0px 1px 2px rgba(0, 0, 0, 0.3));\n",
              "      fill: #FFFFFF;\n",
              "    }\n",
              "  </style>\n",
              "\n",
              "    <script>\n",
              "      const buttonEl =\n",
              "        document.querySelector('#df-b204c813-df70-481d-9ab8-c0db18bd0eaa button.colab-df-convert');\n",
              "      buttonEl.style.display =\n",
              "        google.colab.kernel.accessAllowed ? 'block' : 'none';\n",
              "\n",
              "      async function convertToInteractive(key) {\n",
              "        const element = document.querySelector('#df-b204c813-df70-481d-9ab8-c0db18bd0eaa');\n",
              "        const dataTable =\n",
              "          await google.colab.kernel.invokeFunction('convertToInteractive',\n",
              "                                                    [key], {});\n",
              "        if (!dataTable) return;\n",
              "\n",
              "        const docLinkHtml = 'Like what you see? Visit the ' +\n",
              "          '<a target=\"_blank\" href=https://colab.research.google.com/notebooks/data_table.ipynb>data table notebook</a>'\n",
              "          + ' to learn more about interactive tables.';\n",
              "        element.innerHTML = '';\n",
              "        dataTable['output_type'] = 'display_data';\n",
              "        await google.colab.output.renderOutput(dataTable, element);\n",
              "        const docLink = document.createElement('div');\n",
              "        docLink.innerHTML = docLinkHtml;\n",
              "        element.appendChild(docLink);\n",
              "      }\n",
              "    </script>\n",
              "  </div>\n",
              "\n",
              "\n",
              "<div id=\"df-750220fb-ed47-4461-be89-c8f8521c718a\">\n",
              "  <button class=\"colab-df-quickchart\" onclick=\"quickchart('df-750220fb-ed47-4461-be89-c8f8521c718a')\"\n",
              "            title=\"Suggest charts\"\n",
              "            style=\"display:none;\">\n",
              "\n",
              "<svg xmlns=\"http://www.w3.org/2000/svg\" height=\"24px\"viewBox=\"0 0 24 24\"\n",
              "     width=\"24px\">\n",
              "    <g>\n",
              "        <path d=\"M19 3H5c-1.1 0-2 .9-2 2v14c0 1.1.9 2 2 2h14c1.1 0 2-.9 2-2V5c0-1.1-.9-2-2-2zM9 17H7v-7h2v7zm4 0h-2V7h2v10zm4 0h-2v-4h2v4z\"/>\n",
              "    </g>\n",
              "</svg>\n",
              "  </button>\n",
              "\n",
              "<style>\n",
              "  .colab-df-quickchart {\n",
              "      --bg-color: #E8F0FE;\n",
              "      --fill-color: #1967D2;\n",
              "      --hover-bg-color: #E2EBFA;\n",
              "      --hover-fill-color: #174EA6;\n",
              "      --disabled-fill-color: #AAA;\n",
              "      --disabled-bg-color: #DDD;\n",
              "  }\n",
              "\n",
              "  [theme=dark] .colab-df-quickchart {\n",
              "      --bg-color: #3B4455;\n",
              "      --fill-color: #D2E3FC;\n",
              "      --hover-bg-color: #434B5C;\n",
              "      --hover-fill-color: #FFFFFF;\n",
              "      --disabled-bg-color: #3B4455;\n",
              "      --disabled-fill-color: #666;\n",
              "  }\n",
              "\n",
              "  .colab-df-quickchart {\n",
              "    background-color: var(--bg-color);\n",
              "    border: none;\n",
              "    border-radius: 50%;\n",
              "    cursor: pointer;\n",
              "    display: none;\n",
              "    fill: var(--fill-color);\n",
              "    height: 32px;\n",
              "    padding: 0;\n",
              "    width: 32px;\n",
              "  }\n",
              "\n",
              "  .colab-df-quickchart:hover {\n",
              "    background-color: var(--hover-bg-color);\n",
              "    box-shadow: 0 1px 2px rgba(60, 64, 67, 0.3), 0 1px 3px 1px rgba(60, 64, 67, 0.15);\n",
              "    fill: var(--button-hover-fill-color);\n",
              "  }\n",
              "\n",
              "  .colab-df-quickchart-complete:disabled,\n",
              "  .colab-df-quickchart-complete:disabled:hover {\n",
              "    background-color: var(--disabled-bg-color);\n",
              "    fill: var(--disabled-fill-color);\n",
              "    box-shadow: none;\n",
              "  }\n",
              "\n",
              "  .colab-df-spinner {\n",
              "    border: 2px solid var(--fill-color);\n",
              "    border-color: transparent;\n",
              "    border-bottom-color: var(--fill-color);\n",
              "    animation:\n",
              "      spin 1s steps(1) infinite;\n",
              "  }\n",
              "\n",
              "  @keyframes spin {\n",
              "    0% {\n",
              "      border-color: transparent;\n",
              "      border-bottom-color: var(--fill-color);\n",
              "      border-left-color: var(--fill-color);\n",
              "    }\n",
              "    20% {\n",
              "      border-color: transparent;\n",
              "      border-left-color: var(--fill-color);\n",
              "      border-top-color: var(--fill-color);\n",
              "    }\n",
              "    30% {\n",
              "      border-color: transparent;\n",
              "      border-left-color: var(--fill-color);\n",
              "      border-top-color: var(--fill-color);\n",
              "      border-right-color: var(--fill-color);\n",
              "    }\n",
              "    40% {\n",
              "      border-color: transparent;\n",
              "      border-right-color: var(--fill-color);\n",
              "      border-top-color: var(--fill-color);\n",
              "    }\n",
              "    60% {\n",
              "      border-color: transparent;\n",
              "      border-right-color: var(--fill-color);\n",
              "    }\n",
              "    80% {\n",
              "      border-color: transparent;\n",
              "      border-right-color: var(--fill-color);\n",
              "      border-bottom-color: var(--fill-color);\n",
              "    }\n",
              "    90% {\n",
              "      border-color: transparent;\n",
              "      border-bottom-color: var(--fill-color);\n",
              "    }\n",
              "  }\n",
              "</style>\n",
              "\n",
              "  <script>\n",
              "    async function quickchart(key) {\n",
              "      const quickchartButtonEl =\n",
              "        document.querySelector('#' + key + ' button');\n",
              "      quickchartButtonEl.disabled = true;  // To prevent multiple clicks.\n",
              "      quickchartButtonEl.classList.add('colab-df-spinner');\n",
              "      try {\n",
              "        const charts = await google.colab.kernel.invokeFunction(\n",
              "            'suggestCharts', [key], {});\n",
              "      } catch (error) {\n",
              "        console.error('Error during call to suggestCharts:', error);\n",
              "      }\n",
              "      quickchartButtonEl.classList.remove('colab-df-spinner');\n",
              "      quickchartButtonEl.classList.add('colab-df-quickchart-complete');\n",
              "    }\n",
              "    (() => {\n",
              "      let quickchartButtonEl =\n",
              "        document.querySelector('#df-750220fb-ed47-4461-be89-c8f8521c718a button');\n",
              "      quickchartButtonEl.style.display =\n",
              "        google.colab.kernel.accessAllowed ? 'block' : 'none';\n",
              "    })();\n",
              "  </script>\n",
              "</div>\n",
              "\n",
              "    </div>\n",
              "  </div>\n"
            ],
            "application/vnd.google.colaboratory.intrinsic+json": {
              "type": "dataframe",
              "variable_name": "df",
              "summary": "{\n  \"name\": \"df\",\n  \"rows\": 900,\n  \"fields\": [\n    {\n      \"column\": \"product_title\",\n      \"properties\": {\n        \"dtype\": \"category\",\n        \"num_unique_values\": 30,\n        \"samples\": [\n          \"Safety Glasses\",\n          \"Paint Sprayer\",\n          \"Caulking Gun\"\n        ],\n        \"semantic_type\": \"\",\n        \"description\": \"\"\n      }\n    },\n    {\n      \"column\": \"product_description\",\n      \"properties\": {\n        \"dtype\": \"category\",\n        \"num_unique_values\": 90,\n        \"samples\": [\n          \"This 20-gallon vertical air compressor is designed for heavy-duty use. The oil-free pump requires minimal maintenance.\",\n          \"This 48-inch level is ideal for large projects. The shock-absorbing end caps protect the level from damage.\",\n          \"This 6-piece chisel set is perfect for woodworking projects. The beveled edges ensure precise cuts.\"\n        ],\n        \"semantic_type\": \"\",\n        \"description\": \"\"\n      }\n    },\n    {\n      \"column\": \"review\",\n      \"properties\": {\n        \"dtype\": \"string\",\n        \"num_unique_values\": 890,\n        \"samples\": [\n          \"As a professional painter, I can say this 12-inch paint roller is one of the best I've used. The microfiber cover is top-notch, holding a lot of paint and providing smooth, even coverage. It's perfect for large surfaces like walls and ceilings. The roller is also lightweight, which reduces fatigue during long jobs. Cleaning it is a breeze, and it dries quickly.\",\n          \"This is the best nail gun I've ever used. The battery lasts all day, and the anti-jam mechanism is incredibly effective. It's lightweight and well-balanced, making it easy to use for extended periods. The power and precision are top-notch, and it's perfect for both professional and DIY use. I highly recommend it to anyone in need of a reliable nail gun.\",\n          \"I've been using this 15-piece precision screwdriver set for a few months now, and it has been a game-changer for my electronics repair projects. The ergonomic handles are incredibly comfortable, even during extended use. The variety of screwdriver heads included in the set has allowed me to tackle a wide range of tasks, from fixing my laptop to repairing small kitchen appliances. The magnetic tips are a nice touch, making it easy to keep track of tiny screws.\"\n        ],\n        \"semantic_type\": \"\",\n        \"description\": \"\"\n      }\n    }\n  ]\n}"
            }
          },
          "metadata": {},
          "execution_count": 10
        }
      ]
    },
    {
      "cell_type": "markdown",
      "source": [
        "### Connect Qdrant"
      ],
      "metadata": {
        "id": "-RdkaI2JILgj"
      }
    },
    {
      "cell_type": "code",
      "source": [
        "QDRANT_URL = \"https://qdrant-1.sg-1.cloudtop.dev\"\n",
        "QDRANT_KEY = userdata.get('PERSONAL_QDRANT_KEY')"
      ],
      "metadata": {
        "id": "_TUJ-RE4H8x2"
      },
      "execution_count": null,
      "outputs": []
    },
    {
      "cell_type": "code",
      "source": [
        "qdrant_client = QdrantClient(url=QDRANT_URL, api_key=QDRANT_KEY, port=None)"
      ],
      "metadata": {
        "id": "bCEct2ZjIk_H"
      },
      "execution_count": null,
      "outputs": []
    },
    {
      "cell_type": "markdown",
      "source": [
        "### Create Documents"
      ],
      "metadata": {
        "id": "rv7GrVdQKppy"
      }
    },
    {
      "cell_type": "code",
      "source": [
        "documents = []"
      ],
      "metadata": {
        "id": "mFCnEkWQK2_p"
      },
      "execution_count": null,
      "outputs": []
    },
    {
      "cell_type": "code",
      "source": [
        "for index, row in df.iterrows():\n",
        "    product_title = row['product_title']\n",
        "    product_description = row['product_description']\n",
        "    review = row['review']\n",
        "\n",
        "    # Combine product information and review into a single document\n",
        "    document = f\"Index: {index}\\nTitle: {product_title}\\nDescription: {product_description}\\nReview: {review}\"\n",
        "\n",
        "    documents.append(document)"
      ],
      "metadata": {
        "id": "IiZ2QgD1Kr5R"
      },
      "execution_count": null,
      "outputs": []
    },
    {
      "cell_type": "code",
      "source": [
        "len(documents)"
      ],
      "metadata": {
        "colab": {
          "base_uri": "https://localhost:8080/"
        },
        "id": "pm_c7JE9JXPX",
        "outputId": "b719acf4-3877-4d4d-a70c-0204aa82c26f"
      },
      "execution_count": null,
      "outputs": [
        {
          "output_type": "execute_result",
          "data": {
            "text/plain": [
              "900"
            ]
          },
          "metadata": {},
          "execution_count": 16
        }
      ]
    },
    {
      "cell_type": "code",
      "source": [
        "documents[0]"
      ],
      "metadata": {
        "colab": {
          "base_uri": "https://localhost:8080/",
          "height": 107
        },
        "id": "e2SruLbHeNhe",
        "outputId": "5786fccb-79e2-44cf-c1ee-51e991394d7f"
      },
      "execution_count": null,
      "outputs": [
        {
          "output_type": "execute_result",
          "data": {
            "text/plain": [
              "\"Index: 0\\nTitle: Hammer\\nDescription: This 16 oz claw hammer is perfect for general carpentry and DIY projects. It features a comfortable grip and a durable steel head.\\nReview: I've been using this hammer for a few months now, and it's become my go-to tool for all my DIY projects. The 16 oz weight is perfect for driving nails without too much effort, and the claw is great for removing them. The grip is comfortable, even during extended use, and I haven't noticed any wear on it yet. The steel head is incredibly durable and shows no signs of rust or damage.\""
            ],
            "application/vnd.google.colaboratory.intrinsic+json": {
              "type": "string"
            }
          },
          "metadata": {},
          "execution_count": 17
        }
      ]
    },
    {
      "cell_type": "markdown",
      "source": [
        "### Make data buckets"
      ],
      "metadata": {
        "id": "6bUkqwAvLhdn"
      }
    },
    {
      "cell_type": "code",
      "source": [
        "def create_buckets(items, num_subsets=100, subset_size=10, min_occurrences=3):\n",
        "    \"\"\"\n",
        "    Creates N subset lists from a given list of items, ensuring each item\n",
        "    appears at least Q times across all subsets.\n",
        "\n",
        "    Args:\n",
        "        items: The original list of items.\n",
        "        num_subsets: The desired number of subsets.\n",
        "        subset_size: The desired size of each subset.\n",
        "        min_occurrences: The minimum number of times each item should appear.\n",
        "\n",
        "    Returns:\n",
        "        A list of N subset lists, or None if it's impossible to fulfill the criteria.\n",
        "    \"\"\"\n",
        "\n",
        "    if subset_size > len(items):\n",
        "        return None  # Subset size cannot be larger than the original list\n",
        "\n",
        "    total_required_occurrences = len(items) * min_occurrences\n",
        "    total_subset_items = num_subsets * subset_size\n",
        "\n",
        "    if total_subset_items < total_required_occurrences:\n",
        "        return None #Impossible to fulfill min_occurrences requirement.\n",
        "\n",
        "    item_counts = {item: 0 for item in items}\n",
        "    subsets = [[] for _ in range(num_subsets)]\n",
        "\n",
        "    # Distribute items to meet minimum occurrences\n",
        "    for _ in range(min_occurrences):\n",
        "        for item in items:\n",
        "            placed = False\n",
        "            attempts = 0\n",
        "            while not placed and attempts < 10*num_subsets: #Try to distribute somewhat evenly.\n",
        "                subset_index = random.randrange(num_subsets)\n",
        "                if len(subsets[subset_index]) < subset_size:\n",
        "                    subsets[subset_index].append(item)\n",
        "                    item_counts[item] += 1\n",
        "                    placed = True\n",
        "                attempts += 1\n",
        "\n",
        "\n",
        "    # Fill remaining slots in subsets with random items\n",
        "    for subset in subsets:\n",
        "        while len(subset) < subset_size:\n",
        "            available_items = [item for item in items if item_counts[item] < (total_subset_items // len(items)) + 1] # try not to overpopulate one item.\n",
        "            if not available_items:\n",
        "                available_items = items # if there are no items that haven't been overpopulated, just pick from the original list.\n",
        "            random_item = random.choice(available_items)\n",
        "            subset.append(random_item)\n",
        "            item_counts[random_item] += 1\n",
        "\n",
        "    return subsets"
      ],
      "metadata": {
        "id": "3aoVN2QzJhPy"
      },
      "execution_count": null,
      "outputs": []
    },
    {
      "cell_type": "code",
      "source": [
        "buckets = create_buckets(documents, 500, 25, 3)"
      ],
      "metadata": {
        "id": "qGqnImt9fG9N"
      },
      "execution_count": null,
      "outputs": []
    },
    {
      "cell_type": "markdown",
      "source": [
        "### Generate questions for each bucket"
      ],
      "metadata": {
        "id": "Xs1Uuv7jMf6x"
      }
    },
    {
      "cell_type": "code",
      "source": [
        "NUM_Q_PER_BUCKET = 12"
      ],
      "metadata": {
        "id": "NoqiH0OgfiH-"
      },
      "execution_count": null,
      "outputs": []
    },
    {
      "cell_type": "code",
      "source": [
        "system_prompt = \"\"\"Given the following list of documents in a dataset, you have to come up with \"\"\" + str(NUM_Q_PER_BUCKET) + \"\"\" queries that can be asked on that dataset such that:\n",
        "1. 3 of the queries can bring up good search results\n",
        "2. 3 of the queries are complex and need strong algorithms for better results\n",
        "3. 3 of the queries are good for multiple document outcomes, assign multiple values to matched_indexes field.\n",
        "4. 3 of the queries should not have any responses from the dataset, use invented words, questions with no sense and non english languages\n",
        "5. Don't provide any numbering to the query phrases.\n",
        "6. 4 queries will be between 1 to 3 words.\n",
        "7. 4 queries will be between 4 to 6 words.\n",
        "8. 4 queries will be 7 or more words.\n",
        "\n",
        "documents:\n",
        "\n",
        "\"\"\""
      ],
      "metadata": {
        "id": "sAd7QyDRZVAN"
      },
      "execution_count": null,
      "outputs": []
    },
    {
      "cell_type": "code",
      "source": [
        "prompt = system_prompt + \"\\n\\n\".join(buckets[0])\n",
        "response = getGeminiResponse(prompt)\n",
        "response"
      ],
      "metadata": {
        "colab": {
          "base_uri": "https://localhost:8080/",
          "height": 178
        },
        "id": "bJRiivCng4VM",
        "outputId": "e1fa8ad6-6e8e-4ed3-d360-b7e84f7fbe40"
      },
      "execution_count": null,
      "outputs": [
        {
          "output_type": "execute_result",
          "data": {
            "text/plain": [
              "'{\\n  \"query_pair\": [\\n    {\\n      \"answer\": \"The description and review mention the high-density foam cover, smooth application, lightweight frame, and easy cleaning.\",\\n      \"matched_indexes\": [\\n        272,\\n        276\\n      ],\\n      \"question\": \"What are the features of the 9-inch paint roller?\"\\n    },\\n    {\\n      \"answer\": \"The workbench has a large work surface, integrated power strip, and pegboard back for tool storage.\",\\n      \"matched_indexes\": [\\n        350\\n      ],\\n      \"question\": \"What are the key features of the heavy-duty workbench?\"\\n    },\\n    {\\n      \"answer\": \"The tool belt is made of leather and has large pouches for holding tools.\",\\n      \"matched_indexes\": [\\n        880\\n      ],\\n      \"question\": \"What are the features of the leather tool belt?\"\\n    },\\n    {\\n      \"answer\": \"The nail gun has an ergonomic handle, anti-vibration feature, and tool-free depth adjustment.\",\\n      \"matched_indexes\": [\\n        448\\n      ],\\n      \"question\": \"What are the features of the nail gun?\"\\n    },\\n    {\\n      \"answer\": \"The ladder is made of fiberglass, has wide steps, and is suitable for electrical work.\",\\n      \"matched_indexes\": [\\n        311\\n      ],\\n      \"question\": \"What are the features of the fiberglass ladder?\"\\n    },\\n    {\\n      \"answer\": \"The hacksaw is compact, has a high-tension blade, and is suitable for tight spaces.\",\\n      \"matched_indexes\": [\\n        642,\\n        643\\n      ],\\n      \"question\": \"What are the features of the mini hacksaw?\"\\n    },\\n    {\\n      \"answer\": \"The documents describe various types of workbenches, including heavy-duty and portable models, each with unique features like integrated power strips, pegboard backs, adjustable clamps, and folding designs. Analyzing user reviews reveals common themes such as ease of assembly, sturdiness, and convenience for different project types. A strong algorithm would need to understand these nuanced descriptions and user feedback to accurately categorize and compare the workbenches based on specific features and use cases.\",\\n      \"matched_indexes\": [\\n        350,\\n        345\\n      ],\\n      \"question\": \"Compare and contrast the different types of workbenches based on features and user reviews.\"\\n    },\\n    {\\n      \"answer\": \"The documents mention various nail guns, including heavy-duty framing nail guns, cordless nail guns, and pneumatic nail guns, each with unique features like ergonomic handles, anti-jam mechanisms, adjustable depth control, and compatibility with different nail sizes. Analyzing user reviews reveals common themes such as ease of use, durability, and performance in different construction scenarios. A strong algorithm would need to understand these nuanced descriptions and user feedback to accurately categorize and compare the nail guns based on specific features and use cases.\",\\n      \"matched_indexes\": [\\n        443,\\n        448,\\n        433,\\n        422\\n      ],\\n      \"question\": \"Compare and contrast the different types of nail guns based on features and user reviews.\"\\n    },\\n    {\\n      \"answer\": \"The documents describe various types of ladders, including fiberglass and aluminum models, each with unique features like wide steps, non-slip surfaces, and different load capacities. Analyzing user reviews reveals common themes such as stability, ease of use, and suitability for different project types. A strong algorithm would need to understand these nuanced descriptions and user feedback to accurately categorize and compare the ladders based on specific features and use cases.\",\\n      \"matched_indexes\": [\\n        311,\\n        304\\n      ],\\n      \"question\": \"Compare and contrast the different types of ladders based on features and user reviews.\"\\n    },\\n    {\\n      \"answer\": \"There is no information about \\'flibbertigibbet\\' in the documents.\",\\n      \"matched_indexes\": [],\\n      \"question\": \"What is a flibbertigibbet?\"\\n    },\\n    {\\n      \"answer\": \"There is no information about \\'quantum entanglement wrench\\' in the documents.\",\\n      \"matched_indexes\": [],\\n      \"question\": \"How to use quantum entanglement wrench?\"\\n    },\\n    {\\n      \"answer\": \"There is no information about \\'¿Cómo se usa un destornillador sónico?\\' in the documents.\",\\n      \"matched_indexes\": [],\\n      \"question\": \"¿Cómo se usa un destornillador sónico?\"\\n    },\\n    {\\n      \"answer\": \"The documents mention the utility knife is compact and has a quick-change blade mechanism.\",\\n      \"matched_indexes\": [\\n        253\\n      ],\\n      \"question\": \"Utility knife features\"\\n    },\\n    {\\n      \"answer\": \"The documents mention the hammer is 20 oz and has a milled face.\",\\n      \"matched_indexes\": [\\n        10\\n      ],\\n      \"question\": \"Hammer milled face\"\\n    },\\n    {\\n      \"answer\": \"The documents mention the level has a magnetic strip.\",\\n      \"matched_indexes\": [\\n        237\\n      ],\\n      \"question\": \"Level magnetic strip\"\\n    },\\n    {\\n      \"answer\": \"The documents mention the work gloves have reinforced palms.\",\\n      \"matched_indexes\": [\\n        848\\n      ],\\n      \"question\": \"Work gloves palms\"\\n    },\\n    {\\n      \"answer\": \"The documents mention the paint roller has a high-density foam cover for smooth application.\",\\n      \"matched_indexes\": [\\n        272,\\n        276\\n      ],\\n      \"question\": \"What features does the paint roller have?\"\\n    },\\n    {\\n      \"answer\": \"The documents mention the workbench light has adjustable brightness and a flexible arm.\",\\n      \"matched_indexes\": [\\n        781\\n      ],\\n      \"question\": \"What are the features of the workbench light?\"\\n    },\\n    {\\n      \"answer\": \"The documents mention the cordless drill is compact and ideal for tight spaces and light-duty tasks.\",\\n      \"matched_indexes\": [\\n        74\\n      ],\\n      \"question\": \"What is the cordless drill good for?\"\\n    },\\n    {\\n      \"answer\": \"The documents mention the safety glasses have UV protection and are tinted for outdoor use.\",\\n      \"matched_indexes\": [\\n        839\\n      ],\\n      \"question\": \"What are the features of the safety glasses?\"\\n    }\\n  ]\\n}'"
            ],
            "application/vnd.google.colaboratory.intrinsic+json": {
              "type": "string"
            }
          },
          "metadata": {},
          "execution_count": 27
        }
      ]
    },
    {
      "cell_type": "code",
      "source": [
        "res = json.loads(response)\n",
        "res"
      ],
      "metadata": {
        "colab": {
          "base_uri": "https://localhost:8080/"
        },
        "id": "zlMERP_3g_dJ",
        "outputId": "09b831ac-d5a6-47ee-addb-0fa6c62134a4"
      },
      "execution_count": null,
      "outputs": [
        {
          "output_type": "execute_result",
          "data": {
            "text/plain": [
              "{'query_pair': [{'answer': 'The description and review mention the high-density foam cover, smooth application, lightweight frame, and easy cleaning.',\n",
              "   'matched_indexes': [272, 276],\n",
              "   'question': 'What are the features of the 9-inch paint roller?'},\n",
              "  {'answer': 'The workbench has a large work surface, integrated power strip, and pegboard back for tool storage.',\n",
              "   'matched_indexes': [350],\n",
              "   'question': 'What are the key features of the heavy-duty workbench?'},\n",
              "  {'answer': 'The tool belt is made of leather and has large pouches for holding tools.',\n",
              "   'matched_indexes': [880],\n",
              "   'question': 'What are the features of the leather tool belt?'},\n",
              "  {'answer': 'The nail gun has an ergonomic handle, anti-vibration feature, and tool-free depth adjustment.',\n",
              "   'matched_indexes': [448],\n",
              "   'question': 'What are the features of the nail gun?'},\n",
              "  {'answer': 'The ladder is made of fiberglass, has wide steps, and is suitable for electrical work.',\n",
              "   'matched_indexes': [311],\n",
              "   'question': 'What are the features of the fiberglass ladder?'},\n",
              "  {'answer': 'The hacksaw is compact, has a high-tension blade, and is suitable for tight spaces.',\n",
              "   'matched_indexes': [642, 643],\n",
              "   'question': 'What are the features of the mini hacksaw?'},\n",
              "  {'answer': 'The documents describe various types of workbenches, including heavy-duty and portable models, each with unique features like integrated power strips, pegboard backs, adjustable clamps, and folding designs. Analyzing user reviews reveals common themes such as ease of assembly, sturdiness, and convenience for different project types. A strong algorithm would need to understand these nuanced descriptions and user feedback to accurately categorize and compare the workbenches based on specific features and use cases.',\n",
              "   'matched_indexes': [350, 345],\n",
              "   'question': 'Compare and contrast the different types of workbenches based on features and user reviews.'},\n",
              "  {'answer': 'The documents mention various nail guns, including heavy-duty framing nail guns, cordless nail guns, and pneumatic nail guns, each with unique features like ergonomic handles, anti-jam mechanisms, adjustable depth control, and compatibility with different nail sizes. Analyzing user reviews reveals common themes such as ease of use, durability, and performance in different construction scenarios. A strong algorithm would need to understand these nuanced descriptions and user feedback to accurately categorize and compare the nail guns based on specific features and use cases.',\n",
              "   'matched_indexes': [443, 448, 433, 422],\n",
              "   'question': 'Compare and contrast the different types of nail guns based on features and user reviews.'},\n",
              "  {'answer': 'The documents describe various types of ladders, including fiberglass and aluminum models, each with unique features like wide steps, non-slip surfaces, and different load capacities. Analyzing user reviews reveals common themes such as stability, ease of use, and suitability for different project types. A strong algorithm would need to understand these nuanced descriptions and user feedback to accurately categorize and compare the ladders based on specific features and use cases.',\n",
              "   'matched_indexes': [311, 304],\n",
              "   'question': 'Compare and contrast the different types of ladders based on features and user reviews.'},\n",
              "  {'answer': \"There is no information about 'flibbertigibbet' in the documents.\",\n",
              "   'matched_indexes': [],\n",
              "   'question': 'What is a flibbertigibbet?'},\n",
              "  {'answer': \"There is no information about 'quantum entanglement wrench' in the documents.\",\n",
              "   'matched_indexes': [],\n",
              "   'question': 'How to use quantum entanglement wrench?'},\n",
              "  {'answer': \"There is no information about '¿Cómo se usa un destornillador sónico?' in the documents.\",\n",
              "   'matched_indexes': [],\n",
              "   'question': '¿Cómo se usa un destornillador sónico?'},\n",
              "  {'answer': 'The documents mention the utility knife is compact and has a quick-change blade mechanism.',\n",
              "   'matched_indexes': [253],\n",
              "   'question': 'Utility knife features'},\n",
              "  {'answer': 'The documents mention the hammer is 20 oz and has a milled face.',\n",
              "   'matched_indexes': [10],\n",
              "   'question': 'Hammer milled face'},\n",
              "  {'answer': 'The documents mention the level has a magnetic strip.',\n",
              "   'matched_indexes': [237],\n",
              "   'question': 'Level magnetic strip'},\n",
              "  {'answer': 'The documents mention the work gloves have reinforced palms.',\n",
              "   'matched_indexes': [848],\n",
              "   'question': 'Work gloves palms'},\n",
              "  {'answer': 'The documents mention the paint roller has a high-density foam cover for smooth application.',\n",
              "   'matched_indexes': [272, 276],\n",
              "   'question': 'What features does the paint roller have?'},\n",
              "  {'answer': 'The documents mention the workbench light has adjustable brightness and a flexible arm.',\n",
              "   'matched_indexes': [781],\n",
              "   'question': 'What are the features of the workbench light?'},\n",
              "  {'answer': 'The documents mention the cordless drill is compact and ideal for tight spaces and light-duty tasks.',\n",
              "   'matched_indexes': [74],\n",
              "   'question': 'What is the cordless drill good for?'},\n",
              "  {'answer': 'The documents mention the safety glasses have UV protection and are tinted for outdoor use.',\n",
              "   'matched_indexes': [839],\n",
              "   'question': 'What are the features of the safety glasses?'}]}"
            ]
          },
          "metadata": {},
          "execution_count": 29
        }
      ]
    },
    {
      "cell_type": "code",
      "source": [
        "qna_dataset = []"
      ],
      "metadata": {
        "id": "wE24TL0ShIEc"
      },
      "execution_count": null,
      "outputs": []
    },
    {
      "cell_type": "code",
      "source": [
        "for bucket in tqdm(buckets):\n",
        "    prompt = system_prompt + \"\\n\\n\".join(bucket)\n",
        "    response = getGeminiResponse(prompt)\n",
        "    res = json.loads(response)\n",
        "    qna_dataset.append(res['query_pair'])"
      ],
      "metadata": {
        "id": "EBRZoucvLmsZ",
        "colab": {
          "base_uri": "https://localhost:8080/",
          "height": 365
        },
        "outputId": "dd231503-ce87-4df3-c203-4b92c26f3432"
      },
      "execution_count": null,
      "outputs": [
        {
          "output_type": "stream",
          "name": "stderr",
          "text": [
            " 11%|█         | 56/500 [05:33<44:08,  5.96s/it]\n"
          ]
        },
        {
          "output_type": "error",
          "ename": "JSONDecodeError",
          "evalue": "Unterminated string starting at: line 1139 column 7 (char 28862)",
          "traceback": [
            "\u001b[0;31m---------------------------------------------------------------------------\u001b[0m",
            "\u001b[0;31mJSONDecodeError\u001b[0m                           Traceback (most recent call last)",
            "\u001b[0;32m<ipython-input-31-829304aa14fd>\u001b[0m in \u001b[0;36m<cell line: 0>\u001b[0;34m()\u001b[0m\n\u001b[1;32m      2\u001b[0m     \u001b[0mprompt\u001b[0m \u001b[0;34m=\u001b[0m \u001b[0msystem_prompt\u001b[0m \u001b[0;34m+\u001b[0m \u001b[0;34m\"\\n\\n\"\u001b[0m\u001b[0;34m.\u001b[0m\u001b[0mjoin\u001b[0m\u001b[0;34m(\u001b[0m\u001b[0mbucket\u001b[0m\u001b[0;34m)\u001b[0m\u001b[0;34m\u001b[0m\u001b[0;34m\u001b[0m\u001b[0m\n\u001b[1;32m      3\u001b[0m     \u001b[0mresponse\u001b[0m \u001b[0;34m=\u001b[0m \u001b[0mgetGeminiResponse\u001b[0m\u001b[0;34m(\u001b[0m\u001b[0mprompt\u001b[0m\u001b[0;34m)\u001b[0m\u001b[0;34m\u001b[0m\u001b[0;34m\u001b[0m\u001b[0m\n\u001b[0;32m----> 4\u001b[0;31m     \u001b[0mres\u001b[0m \u001b[0;34m=\u001b[0m \u001b[0mjson\u001b[0m\u001b[0;34m.\u001b[0m\u001b[0mloads\u001b[0m\u001b[0;34m(\u001b[0m\u001b[0mresponse\u001b[0m\u001b[0;34m)\u001b[0m\u001b[0;34m\u001b[0m\u001b[0;34m\u001b[0m\u001b[0m\n\u001b[0m\u001b[1;32m      5\u001b[0m     \u001b[0mqna_dataset\u001b[0m\u001b[0;34m.\u001b[0m\u001b[0mappend\u001b[0m\u001b[0;34m(\u001b[0m\u001b[0mres\u001b[0m\u001b[0;34m[\u001b[0m\u001b[0;34m'query_pair'\u001b[0m\u001b[0;34m]\u001b[0m\u001b[0;34m)\u001b[0m\u001b[0;34m\u001b[0m\u001b[0;34m\u001b[0m\u001b[0m\n",
            "\u001b[0;32m/usr/lib/python3.11/json/__init__.py\u001b[0m in \u001b[0;36mloads\u001b[0;34m(s, cls, object_hook, parse_float, parse_int, parse_constant, object_pairs_hook, **kw)\u001b[0m\n\u001b[1;32m    344\u001b[0m             \u001b[0mparse_int\u001b[0m \u001b[0;32mis\u001b[0m \u001b[0;32mNone\u001b[0m \u001b[0;32mand\u001b[0m \u001b[0mparse_float\u001b[0m \u001b[0;32mis\u001b[0m \u001b[0;32mNone\u001b[0m \u001b[0;32mand\u001b[0m\u001b[0;34m\u001b[0m\u001b[0;34m\u001b[0m\u001b[0m\n\u001b[1;32m    345\u001b[0m             parse_constant is None and object_pairs_hook is None and not kw):\n\u001b[0;32m--> 346\u001b[0;31m         \u001b[0;32mreturn\u001b[0m \u001b[0m_default_decoder\u001b[0m\u001b[0;34m.\u001b[0m\u001b[0mdecode\u001b[0m\u001b[0;34m(\u001b[0m\u001b[0ms\u001b[0m\u001b[0;34m)\u001b[0m\u001b[0;34m\u001b[0m\u001b[0;34m\u001b[0m\u001b[0m\n\u001b[0m\u001b[1;32m    347\u001b[0m     \u001b[0;32mif\u001b[0m \u001b[0mcls\u001b[0m \u001b[0;32mis\u001b[0m \u001b[0;32mNone\u001b[0m\u001b[0;34m:\u001b[0m\u001b[0;34m\u001b[0m\u001b[0;34m\u001b[0m\u001b[0m\n\u001b[1;32m    348\u001b[0m         \u001b[0mcls\u001b[0m \u001b[0;34m=\u001b[0m \u001b[0mJSONDecoder\u001b[0m\u001b[0;34m\u001b[0m\u001b[0;34m\u001b[0m\u001b[0m\n",
            "\u001b[0;32m/usr/lib/python3.11/json/decoder.py\u001b[0m in \u001b[0;36mdecode\u001b[0;34m(self, s, _w)\u001b[0m\n\u001b[1;32m    335\u001b[0m \u001b[0;34m\u001b[0m\u001b[0m\n\u001b[1;32m    336\u001b[0m         \"\"\"\n\u001b[0;32m--> 337\u001b[0;31m         \u001b[0mobj\u001b[0m\u001b[0;34m,\u001b[0m \u001b[0mend\u001b[0m \u001b[0;34m=\u001b[0m \u001b[0mself\u001b[0m\u001b[0;34m.\u001b[0m\u001b[0mraw_decode\u001b[0m\u001b[0;34m(\u001b[0m\u001b[0ms\u001b[0m\u001b[0;34m,\u001b[0m \u001b[0midx\u001b[0m\u001b[0;34m=\u001b[0m\u001b[0m_w\u001b[0m\u001b[0;34m(\u001b[0m\u001b[0ms\u001b[0m\u001b[0;34m,\u001b[0m \u001b[0;36m0\u001b[0m\u001b[0;34m)\u001b[0m\u001b[0;34m.\u001b[0m\u001b[0mend\u001b[0m\u001b[0;34m(\u001b[0m\u001b[0;34m)\u001b[0m\u001b[0;34m)\u001b[0m\u001b[0;34m\u001b[0m\u001b[0;34m\u001b[0m\u001b[0m\n\u001b[0m\u001b[1;32m    338\u001b[0m         \u001b[0mend\u001b[0m \u001b[0;34m=\u001b[0m \u001b[0m_w\u001b[0m\u001b[0;34m(\u001b[0m\u001b[0ms\u001b[0m\u001b[0;34m,\u001b[0m \u001b[0mend\u001b[0m\u001b[0;34m)\u001b[0m\u001b[0;34m.\u001b[0m\u001b[0mend\u001b[0m\u001b[0;34m(\u001b[0m\u001b[0;34m)\u001b[0m\u001b[0;34m\u001b[0m\u001b[0;34m\u001b[0m\u001b[0m\n\u001b[1;32m    339\u001b[0m         \u001b[0;32mif\u001b[0m \u001b[0mend\u001b[0m \u001b[0;34m!=\u001b[0m \u001b[0mlen\u001b[0m\u001b[0;34m(\u001b[0m\u001b[0ms\u001b[0m\u001b[0;34m)\u001b[0m\u001b[0;34m:\u001b[0m\u001b[0;34m\u001b[0m\u001b[0;34m\u001b[0m\u001b[0m\n",
            "\u001b[0;32m/usr/lib/python3.11/json/decoder.py\u001b[0m in \u001b[0;36mraw_decode\u001b[0;34m(self, s, idx)\u001b[0m\n\u001b[1;32m    351\u001b[0m         \"\"\"\n\u001b[1;32m    352\u001b[0m         \u001b[0;32mtry\u001b[0m\u001b[0;34m:\u001b[0m\u001b[0;34m\u001b[0m\u001b[0;34m\u001b[0m\u001b[0m\n\u001b[0;32m--> 353\u001b[0;31m             \u001b[0mobj\u001b[0m\u001b[0;34m,\u001b[0m \u001b[0mend\u001b[0m \u001b[0;34m=\u001b[0m \u001b[0mself\u001b[0m\u001b[0;34m.\u001b[0m\u001b[0mscan_once\u001b[0m\u001b[0;34m(\u001b[0m\u001b[0ms\u001b[0m\u001b[0;34m,\u001b[0m \u001b[0midx\u001b[0m\u001b[0;34m)\u001b[0m\u001b[0;34m\u001b[0m\u001b[0;34m\u001b[0m\u001b[0m\n\u001b[0m\u001b[1;32m    354\u001b[0m         \u001b[0;32mexcept\u001b[0m \u001b[0mStopIteration\u001b[0m \u001b[0;32mas\u001b[0m \u001b[0merr\u001b[0m\u001b[0;34m:\u001b[0m\u001b[0;34m\u001b[0m\u001b[0;34m\u001b[0m\u001b[0m\n\u001b[1;32m    355\u001b[0m             \u001b[0;32mraise\u001b[0m \u001b[0mJSONDecodeError\u001b[0m\u001b[0;34m(\u001b[0m\u001b[0;34m\"Expecting value\"\u001b[0m\u001b[0;34m,\u001b[0m \u001b[0ms\u001b[0m\u001b[0;34m,\u001b[0m \u001b[0merr\u001b[0m\u001b[0;34m.\u001b[0m\u001b[0mvalue\u001b[0m\u001b[0;34m)\u001b[0m \u001b[0;32mfrom\u001b[0m \u001b[0;32mNone\u001b[0m\u001b[0;34m\u001b[0m\u001b[0;34m\u001b[0m\u001b[0m\n",
            "\u001b[0;31mJSONDecodeError\u001b[0m: Unterminated string starting at: line 1139 column 7 (char 28862)"
          ]
        }
      ]
    },
    {
      "cell_type": "markdown",
      "source": [
        "### Save dataset"
      ],
      "metadata": {
        "id": "sPWzBkd5a2sk"
      }
    },
    {
      "cell_type": "code",
      "source": [
        "with open('qna_dataset.json', 'w') as f:\n",
        "    json.dump(qna_dataset, f)"
      ],
      "metadata": {
        "id": "aeMopUXHaZvJ"
      },
      "execution_count": null,
      "outputs": []
    },
    {
      "cell_type": "code",
      "source": [],
      "metadata": {
        "id": "HMJx7430a96Z"
      },
      "execution_count": null,
      "outputs": []
    }
  ]
}