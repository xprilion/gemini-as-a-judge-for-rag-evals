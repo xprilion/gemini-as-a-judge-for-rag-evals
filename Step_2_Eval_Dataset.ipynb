{
  "nbformat": 4,
  "nbformat_minor": 0,
  "metadata": {
    "colab": {
      "provenance": [],
      "authorship_tag": "ABX9TyMFybsi2ctAx5S5qiJcvAhb",
      "include_colab_link": true
    },
    "kernelspec": {
      "name": "python3",
      "display_name": "Python 3"
    },
    "language_info": {
      "name": "python"
    }
  },
  "cells": [
    {
      "cell_type": "markdown",
      "metadata": {
        "id": "view-in-github",
        "colab_type": "text"
      },
      "source": [
        "<a href=\"https://colab.research.google.com/github/xprilion/gemini-as-a-judge-for-rag-evals/blob/main/Step_2_Eval_Dataset.ipynb\" target=\"_parent\"><img src=\"https://colab.research.google.com/assets/colab-badge.svg\" alt=\"Open In Colab\"/></a>"
      ]
    },
    {
      "cell_type": "markdown",
      "source": [
        "# Gemini As A Judge for RAG Evals"
      ],
      "metadata": {
        "id": "7z-PmxJzF3w5"
      }
    },
    {
      "cell_type": "markdown",
      "source": [
        "## Evaluation Dataset"
      ],
      "metadata": {
        "id": "EZa7H_5XF-hb"
      }
    },
    {
      "cell_type": "markdown",
      "source": [
        "### 1. Load the datasets"
      ],
      "metadata": {
        "id": "HWjUjRwKG8XN"
      }
    },
    {
      "cell_type": "code",
      "execution_count": 1,
      "metadata": {
        "colab": {
          "base_uri": "https://localhost:8080/"
        },
        "id": "FBLjwX7fCl13",
        "outputId": "5ba5cef0-33ed-4e9c-804c-c41d85b6f50a"
      },
      "outputs": [
        {
          "output_type": "stream",
          "name": "stdout",
          "text": [
            "--2025-03-02 02:36:19--  https://raw.githubusercontent.com/xprilion/gemini-as-a-judge-for-rag-evals/refs/heads/main/reviews.json\n",
            "Resolving raw.githubusercontent.com (raw.githubusercontent.com)... 185.199.108.133, 185.199.109.133, 185.199.110.133, ...\n",
            "Connecting to raw.githubusercontent.com (raw.githubusercontent.com)|185.199.108.133|:443... connected.\n",
            "HTTP request sent, awaiting response... 200 OK\n",
            "Length: 507865 (496K) [text/plain]\n",
            "Saving to: ‘reviews.json’\n",
            "\n",
            "reviews.json        100%[===================>] 495.96K  --.-KB/s    in 0.008s  \n",
            "\n",
            "2025-03-02 02:36:20 (58.6 MB/s) - ‘reviews.json’ saved [507865/507865]\n",
            "\n"
          ]
        }
      ],
      "source": [
        "!wget https://raw.githubusercontent.com/xprilion/gemini-as-a-judge-for-rag-evals/refs/heads/main/reviews.json"
      ]
    },
    {
      "cell_type": "markdown",
      "source": [
        "### Packages"
      ],
      "metadata": {
        "id": "i8siIxiEIu-2"
      }
    },
    {
      "cell_type": "code",
      "source": [
        "%%capture\n",
        "!pip install qdrant-client[fastembed]\n",
        "!pip install google-genai"
      ],
      "metadata": {
        "id": "UJy2rKEyIuoK"
      },
      "execution_count": null,
      "outputs": []
    },
    {
      "cell_type": "markdown",
      "source": [
        "### Imports"
      ],
      "metadata": {
        "id": "rRd-Y1Z4HFWu"
      }
    },
    {
      "cell_type": "code",
      "source": [
        "import pandas as pd\n",
        "import json\n",
        "import os\n",
        "import time\n",
        "from tqdm import tqdm\n",
        "from google import genai\n",
        "from google.genai import types\n",
        "from qdrant_client import QdrantClient\n",
        "from qdrant_client.models import Distance, VectorParams\n",
        "import uuid\n",
        "import random\n",
        "\n",
        "from google.colab import userdata"
      ],
      "metadata": {
        "id": "u6landw4G5CS",
        "colab": {
          "base_uri": "https://localhost:8080/"
        },
        "outputId": "72842b24-738e-4ecd-fa64-b63b42e72213"
      },
      "execution_count": null,
      "outputs": [
        {
          "output_type": "stream",
          "name": "stderr",
          "text": [
            "/usr/local/lib/python3.11/dist-packages/pydantic/_internal/_generate_schema.py:502: UserWarning: <built-in function any> is not a Python type (it may be an instance of an object), Pydantic will allow any object with no validation since we cannot even enforce that the input is an instance of the given type. To get rid of this error wrap the type with `pydantic.SkipValidation`.\n",
            "  warn(\n"
          ]
        }
      ]
    },
    {
      "cell_type": "markdown",
      "source": [
        "### Helpers"
      ],
      "metadata": {
        "id": "6ASIJ0OTXUQ9"
      }
    },
    {
      "cell_type": "code",
      "source": [
        "collection_name = \"product_reviews\""
      ],
      "metadata": {
        "id": "M1-pzDF5ZMnw"
      },
      "execution_count": null,
      "outputs": []
    },
    {
      "cell_type": "code",
      "source": [
        "GEMINI_KEY = userdata.get('GEMINI_API_KEY')\n",
        "gemini_client = genai.Client(\n",
        "    api_key=GEMINI_KEY\n",
        ")"
      ],
      "metadata": {
        "id": "gA4qxypZXVSU"
      },
      "execution_count": null,
      "outputs": []
    },
    {
      "cell_type": "code",
      "source": [
        "def getGeminiResponse(prompt, max_tokens=8192, response_type=\"application/json\"):\n",
        "    contents = [\n",
        "        types.Content(\n",
        "            role=\"user\",\n",
        "            parts=[\n",
        "                types.Part.from_text(\n",
        "                    text=prompt\n",
        "                ),\n",
        "            ],\n",
        "        ),\n",
        "    ]\n",
        "    generate_content_config = types.GenerateContentConfig(\n",
        "        temperature=0,\n",
        "        top_p=0.95,\n",
        "        top_k=40,\n",
        "        max_output_tokens=max_tokens,\n",
        "        response_mime_type=response_type,\n",
        "        response_schema=genai.types.Schema(\n",
        "            type = genai.types.Type.OBJECT,\n",
        "            enum = [],\n",
        "            required = [\"query_pair\"],\n",
        "            properties = {\n",
        "                \"query_pair\": genai.types.Schema(\n",
        "                    type = genai.types.Type.ARRAY,\n",
        "                    items = genai.types.Schema(\n",
        "                        type = genai.types.Type.OBJECT,\n",
        "                        enum = [],\n",
        "                        required = [\"question\", \"answer\", \"matched_indexes\"],\n",
        "                        properties = {\n",
        "                            \"question\": genai.types.Schema(\n",
        "                                type = genai.types.Type.STRING,\n",
        "                            ),\n",
        "                            \"answer\": genai.types.Schema(\n",
        "                                type = genai.types.Type.STRING,\n",
        "                            ),\n",
        "                            \"matched_indexes\": genai.types.Schema(\n",
        "                                type = genai.types.Type.ARRAY,\n",
        "                                items = genai.types.Schema(\n",
        "                                    type = genai.types.Type.NUMBER,\n",
        "                                ),\n",
        "                            ),\n",
        "                        },\n",
        "                    ),\n",
        "                ),\n",
        "            },\n",
        "        ),\n",
        "    )\n",
        "    response = gemini_client.models.generate_content(\n",
        "        model=\"gemini-2.0-flash\", contents=contents, config=generate_content_config\n",
        "    )\n",
        "    return response.text"
      ],
      "metadata": {
        "id": "-j7toHuxYuux"
      },
      "execution_count": null,
      "outputs": []
    },
    {
      "cell_type": "code",
      "source": [
        "getGeminiResponse(\"What is 2+3?\")"
      ],
      "metadata": {
        "colab": {
          "base_uri": "https://localhost:8080/",
          "height": 35
        },
        "id": "Nm6lU5u6Y8WX",
        "outputId": "98d420df-1a97-4f4e-b074-4805811f570a"
      },
      "execution_count": null,
      "outputs": [
        {
          "output_type": "execute_result",
          "data": {
            "text/plain": [
              "'{\\n  \"query_pair\": [\\n    {\\n      \"answer\": \"5\",\\n      \"matched_indexes\": [],\\n      \"question\": \"What is 2+3?\"\\n    }\\n  ]\\n}'"
            ],
            "application/vnd.google.colaboratory.intrinsic+json": {
              "type": "string"
            }
          },
          "metadata": {},
          "execution_count": 7
        }
      ]
    },
    {
      "cell_type": "markdown",
      "source": [
        "### EDA"
      ],
      "metadata": {
        "id": "eRd7drJqHqGh"
      }
    },
    {
      "cell_type": "code",
      "source": [
        "df = pd.read_json('reviews.json')"
      ],
      "metadata": {
        "id": "8uMt4eB_HfuA"
      },
      "execution_count": null,
      "outputs": []
    },
    {
      "cell_type": "code",
      "source": [
        "df.head()"
      ],
      "metadata": {
        "colab": {
          "base_uri": "https://localhost:8080/",
          "height": 206
        },
        "id": "tBRn0-xmHjHQ",
        "outputId": "f41209fc-a003-46ce-fe11-309913aee442"
      },
      "execution_count": null,
      "outputs": [
        {
          "output_type": "execute_result",
          "data": {
            "text/plain": [
              "  product_title                                product_description  \\\n",
              "0        Hammer  This 16 oz claw hammer is perfect for general ...   \n",
              "1        Hammer  This 16 oz claw hammer is perfect for general ...   \n",
              "2        Hammer  This 16 oz claw hammer is perfect for general ...   \n",
              "3        Hammer  This 16 oz claw hammer is perfect for general ...   \n",
              "4        Hammer  This 16 oz claw hammer is perfect for general ...   \n",
              "\n",
              "                                              review  \n",
              "0  I've been using this hammer for a few months n...  \n",
              "1  This hammer is a solid addition to my toolbox....  \n",
              "2  I purchased this hammer for some home renovati...  \n",
              "3  As a professional carpenter, I rely on my tool...  \n",
              "4  This hammer is a great value for the price. Th...  "
            ],
            "text/html": [
              "\n",
              "  <div id=\"df-7509acd4-3748-4c6b-917d-ff138d7089c1\" class=\"colab-df-container\">\n",
              "    <div>\n",
              "<style scoped>\n",
              "    .dataframe tbody tr th:only-of-type {\n",
              "        vertical-align: middle;\n",
              "    }\n",
              "\n",
              "    .dataframe tbody tr th {\n",
              "        vertical-align: top;\n",
              "    }\n",
              "\n",
              "    .dataframe thead th {\n",
              "        text-align: right;\n",
              "    }\n",
              "</style>\n",
              "<table border=\"1\" class=\"dataframe\">\n",
              "  <thead>\n",
              "    <tr style=\"text-align: right;\">\n",
              "      <th></th>\n",
              "      <th>product_title</th>\n",
              "      <th>product_description</th>\n",
              "      <th>review</th>\n",
              "    </tr>\n",
              "  </thead>\n",
              "  <tbody>\n",
              "    <tr>\n",
              "      <th>0</th>\n",
              "      <td>Hammer</td>\n",
              "      <td>This 16 oz claw hammer is perfect for general ...</td>\n",
              "      <td>I've been using this hammer for a few months n...</td>\n",
              "    </tr>\n",
              "    <tr>\n",
              "      <th>1</th>\n",
              "      <td>Hammer</td>\n",
              "      <td>This 16 oz claw hammer is perfect for general ...</td>\n",
              "      <td>This hammer is a solid addition to my toolbox....</td>\n",
              "    </tr>\n",
              "    <tr>\n",
              "      <th>2</th>\n",
              "      <td>Hammer</td>\n",
              "      <td>This 16 oz claw hammer is perfect for general ...</td>\n",
              "      <td>I purchased this hammer for some home renovati...</td>\n",
              "    </tr>\n",
              "    <tr>\n",
              "      <th>3</th>\n",
              "      <td>Hammer</td>\n",
              "      <td>This 16 oz claw hammer is perfect for general ...</td>\n",
              "      <td>As a professional carpenter, I rely on my tool...</td>\n",
              "    </tr>\n",
              "    <tr>\n",
              "      <th>4</th>\n",
              "      <td>Hammer</td>\n",
              "      <td>This 16 oz claw hammer is perfect for general ...</td>\n",
              "      <td>This hammer is a great value for the price. Th...</td>\n",
              "    </tr>\n",
              "  </tbody>\n",
              "</table>\n",
              "</div>\n",
              "    <div class=\"colab-df-buttons\">\n",
              "\n",
              "  <div class=\"colab-df-container\">\n",
              "    <button class=\"colab-df-convert\" onclick=\"convertToInteractive('df-7509acd4-3748-4c6b-917d-ff138d7089c1')\"\n",
              "            title=\"Convert this dataframe to an interactive table.\"\n",
              "            style=\"display:none;\">\n",
              "\n",
              "  <svg xmlns=\"http://www.w3.org/2000/svg\" height=\"24px\" viewBox=\"0 -960 960 960\">\n",
              "    <path d=\"M120-120v-720h720v720H120Zm60-500h600v-160H180v160Zm220 220h160v-160H400v160Zm0 220h160v-160H400v160ZM180-400h160v-160H180v160Zm440 0h160v-160H620v160ZM180-180h160v-160H180v160Zm440 0h160v-160H620v160Z\"/>\n",
              "  </svg>\n",
              "    </button>\n",
              "\n",
              "  <style>\n",
              "    .colab-df-container {\n",
              "      display:flex;\n",
              "      gap: 12px;\n",
              "    }\n",
              "\n",
              "    .colab-df-convert {\n",
              "      background-color: #E8F0FE;\n",
              "      border: none;\n",
              "      border-radius: 50%;\n",
              "      cursor: pointer;\n",
              "      display: none;\n",
              "      fill: #1967D2;\n",
              "      height: 32px;\n",
              "      padding: 0 0 0 0;\n",
              "      width: 32px;\n",
              "    }\n",
              "\n",
              "    .colab-df-convert:hover {\n",
              "      background-color: #E2EBFA;\n",
              "      box-shadow: 0px 1px 2px rgba(60, 64, 67, 0.3), 0px 1px 3px 1px rgba(60, 64, 67, 0.15);\n",
              "      fill: #174EA6;\n",
              "    }\n",
              "\n",
              "    .colab-df-buttons div {\n",
              "      margin-bottom: 4px;\n",
              "    }\n",
              "\n",
              "    [theme=dark] .colab-df-convert {\n",
              "      background-color: #3B4455;\n",
              "      fill: #D2E3FC;\n",
              "    }\n",
              "\n",
              "    [theme=dark] .colab-df-convert:hover {\n",
              "      background-color: #434B5C;\n",
              "      box-shadow: 0px 1px 3px 1px rgba(0, 0, 0, 0.15);\n",
              "      filter: drop-shadow(0px 1px 2px rgba(0, 0, 0, 0.3));\n",
              "      fill: #FFFFFF;\n",
              "    }\n",
              "  </style>\n",
              "\n",
              "    <script>\n",
              "      const buttonEl =\n",
              "        document.querySelector('#df-7509acd4-3748-4c6b-917d-ff138d7089c1 button.colab-df-convert');\n",
              "      buttonEl.style.display =\n",
              "        google.colab.kernel.accessAllowed ? 'block' : 'none';\n",
              "\n",
              "      async function convertToInteractive(key) {\n",
              "        const element = document.querySelector('#df-7509acd4-3748-4c6b-917d-ff138d7089c1');\n",
              "        const dataTable =\n",
              "          await google.colab.kernel.invokeFunction('convertToInteractive',\n",
              "                                                    [key], {});\n",
              "        if (!dataTable) return;\n",
              "\n",
              "        const docLinkHtml = 'Like what you see? Visit the ' +\n",
              "          '<a target=\"_blank\" href=https://colab.research.google.com/notebooks/data_table.ipynb>data table notebook</a>'\n",
              "          + ' to learn more about interactive tables.';\n",
              "        element.innerHTML = '';\n",
              "        dataTable['output_type'] = 'display_data';\n",
              "        await google.colab.output.renderOutput(dataTable, element);\n",
              "        const docLink = document.createElement('div');\n",
              "        docLink.innerHTML = docLinkHtml;\n",
              "        element.appendChild(docLink);\n",
              "      }\n",
              "    </script>\n",
              "  </div>\n",
              "\n",
              "\n",
              "<div id=\"df-11de968e-eb9e-4c47-8c5c-481f0661e3af\">\n",
              "  <button class=\"colab-df-quickchart\" onclick=\"quickchart('df-11de968e-eb9e-4c47-8c5c-481f0661e3af')\"\n",
              "            title=\"Suggest charts\"\n",
              "            style=\"display:none;\">\n",
              "\n",
              "<svg xmlns=\"http://www.w3.org/2000/svg\" height=\"24px\"viewBox=\"0 0 24 24\"\n",
              "     width=\"24px\">\n",
              "    <g>\n",
              "        <path d=\"M19 3H5c-1.1 0-2 .9-2 2v14c0 1.1.9 2 2 2h14c1.1 0 2-.9 2-2V5c0-1.1-.9-2-2-2zM9 17H7v-7h2v7zm4 0h-2V7h2v10zm4 0h-2v-4h2v4z\"/>\n",
              "    </g>\n",
              "</svg>\n",
              "  </button>\n",
              "\n",
              "<style>\n",
              "  .colab-df-quickchart {\n",
              "      --bg-color: #E8F0FE;\n",
              "      --fill-color: #1967D2;\n",
              "      --hover-bg-color: #E2EBFA;\n",
              "      --hover-fill-color: #174EA6;\n",
              "      --disabled-fill-color: #AAA;\n",
              "      --disabled-bg-color: #DDD;\n",
              "  }\n",
              "\n",
              "  [theme=dark] .colab-df-quickchart {\n",
              "      --bg-color: #3B4455;\n",
              "      --fill-color: #D2E3FC;\n",
              "      --hover-bg-color: #434B5C;\n",
              "      --hover-fill-color: #FFFFFF;\n",
              "      --disabled-bg-color: #3B4455;\n",
              "      --disabled-fill-color: #666;\n",
              "  }\n",
              "\n",
              "  .colab-df-quickchart {\n",
              "    background-color: var(--bg-color);\n",
              "    border: none;\n",
              "    border-radius: 50%;\n",
              "    cursor: pointer;\n",
              "    display: none;\n",
              "    fill: var(--fill-color);\n",
              "    height: 32px;\n",
              "    padding: 0;\n",
              "    width: 32px;\n",
              "  }\n",
              "\n",
              "  .colab-df-quickchart:hover {\n",
              "    background-color: var(--hover-bg-color);\n",
              "    box-shadow: 0 1px 2px rgba(60, 64, 67, 0.3), 0 1px 3px 1px rgba(60, 64, 67, 0.15);\n",
              "    fill: var(--button-hover-fill-color);\n",
              "  }\n",
              "\n",
              "  .colab-df-quickchart-complete:disabled,\n",
              "  .colab-df-quickchart-complete:disabled:hover {\n",
              "    background-color: var(--disabled-bg-color);\n",
              "    fill: var(--disabled-fill-color);\n",
              "    box-shadow: none;\n",
              "  }\n",
              "\n",
              "  .colab-df-spinner {\n",
              "    border: 2px solid var(--fill-color);\n",
              "    border-color: transparent;\n",
              "    border-bottom-color: var(--fill-color);\n",
              "    animation:\n",
              "      spin 1s steps(1) infinite;\n",
              "  }\n",
              "\n",
              "  @keyframes spin {\n",
              "    0% {\n",
              "      border-color: transparent;\n",
              "      border-bottom-color: var(--fill-color);\n",
              "      border-left-color: var(--fill-color);\n",
              "    }\n",
              "    20% {\n",
              "      border-color: transparent;\n",
              "      border-left-color: var(--fill-color);\n",
              "      border-top-color: var(--fill-color);\n",
              "    }\n",
              "    30% {\n",
              "      border-color: transparent;\n",
              "      border-left-color: var(--fill-color);\n",
              "      border-top-color: var(--fill-color);\n",
              "      border-right-color: var(--fill-color);\n",
              "    }\n",
              "    40% {\n",
              "      border-color: transparent;\n",
              "      border-right-color: var(--fill-color);\n",
              "      border-top-color: var(--fill-color);\n",
              "    }\n",
              "    60% {\n",
              "      border-color: transparent;\n",
              "      border-right-color: var(--fill-color);\n",
              "    }\n",
              "    80% {\n",
              "      border-color: transparent;\n",
              "      border-right-color: var(--fill-color);\n",
              "      border-bottom-color: var(--fill-color);\n",
              "    }\n",
              "    90% {\n",
              "      border-color: transparent;\n",
              "      border-bottom-color: var(--fill-color);\n",
              "    }\n",
              "  }\n",
              "</style>\n",
              "\n",
              "  <script>\n",
              "    async function quickchart(key) {\n",
              "      const quickchartButtonEl =\n",
              "        document.querySelector('#' + key + ' button');\n",
              "      quickchartButtonEl.disabled = true;  // To prevent multiple clicks.\n",
              "      quickchartButtonEl.classList.add('colab-df-spinner');\n",
              "      try {\n",
              "        const charts = await google.colab.kernel.invokeFunction(\n",
              "            'suggestCharts', [key], {});\n",
              "      } catch (error) {\n",
              "        console.error('Error during call to suggestCharts:', error);\n",
              "      }\n",
              "      quickchartButtonEl.classList.remove('colab-df-spinner');\n",
              "      quickchartButtonEl.classList.add('colab-df-quickchart-complete');\n",
              "    }\n",
              "    (() => {\n",
              "      let quickchartButtonEl =\n",
              "        document.querySelector('#df-11de968e-eb9e-4c47-8c5c-481f0661e3af button');\n",
              "      quickchartButtonEl.style.display =\n",
              "        google.colab.kernel.accessAllowed ? 'block' : 'none';\n",
              "    })();\n",
              "  </script>\n",
              "</div>\n",
              "\n",
              "    </div>\n",
              "  </div>\n"
            ],
            "application/vnd.google.colaboratory.intrinsic+json": {
              "type": "dataframe",
              "variable_name": "df",
              "summary": "{\n  \"name\": \"df\",\n  \"rows\": 900,\n  \"fields\": [\n    {\n      \"column\": \"product_title\",\n      \"properties\": {\n        \"dtype\": \"category\",\n        \"num_unique_values\": 30,\n        \"samples\": [\n          \"Safety Glasses\",\n          \"Paint Sprayer\",\n          \"Caulking Gun\"\n        ],\n        \"semantic_type\": \"\",\n        \"description\": \"\"\n      }\n    },\n    {\n      \"column\": \"product_description\",\n      \"properties\": {\n        \"dtype\": \"category\",\n        \"num_unique_values\": 90,\n        \"samples\": [\n          \"This 20-gallon vertical air compressor is designed for heavy-duty use. The oil-free pump requires minimal maintenance.\",\n          \"This 48-inch level is ideal for large projects. The shock-absorbing end caps protect the level from damage.\",\n          \"This 6-piece chisel set is perfect for woodworking projects. The beveled edges ensure precise cuts.\"\n        ],\n        \"semantic_type\": \"\",\n        \"description\": \"\"\n      }\n    },\n    {\n      \"column\": \"review\",\n      \"properties\": {\n        \"dtype\": \"string\",\n        \"num_unique_values\": 890,\n        \"samples\": [\n          \"As a professional painter, I can say this 12-inch paint roller is one of the best I've used. The microfiber cover is top-notch, holding a lot of paint and providing smooth, even coverage. It's perfect for large surfaces like walls and ceilings. The roller is also lightweight, which reduces fatigue during long jobs. Cleaning it is a breeze, and it dries quickly.\",\n          \"This is the best nail gun I've ever used. The battery lasts all day, and the anti-jam mechanism is incredibly effective. It's lightweight and well-balanced, making it easy to use for extended periods. The power and precision are top-notch, and it's perfect for both professional and DIY use. I highly recommend it to anyone in need of a reliable nail gun.\",\n          \"I've been using this 15-piece precision screwdriver set for a few months now, and it has been a game-changer for my electronics repair projects. The ergonomic handles are incredibly comfortable, even during extended use. The variety of screwdriver heads included in the set has allowed me to tackle a wide range of tasks, from fixing my laptop to repairing small kitchen appliances. The magnetic tips are a nice touch, making it easy to keep track of tiny screws.\"\n        ],\n        \"semantic_type\": \"\",\n        \"description\": \"\"\n      }\n    }\n  ]\n}"
            }
          },
          "metadata": {},
          "execution_count": 9
        }
      ]
    },
    {
      "cell_type": "markdown",
      "source": [
        "### Connect Qdrant"
      ],
      "metadata": {
        "id": "-RdkaI2JILgj"
      }
    },
    {
      "cell_type": "code",
      "source": [
        "QDRANT_URL = \"https://qdrant-1.sg-1.cloudtop.dev\"\n",
        "QDRANT_KEY = userdata.get('PERSONAL_QDRANT_KEY')"
      ],
      "metadata": {
        "id": "_TUJ-RE4H8x2"
      },
      "execution_count": null,
      "outputs": []
    },
    {
      "cell_type": "code",
      "source": [
        "qdrant_client = QdrantClient(url=QDRANT_URL, api_key=QDRANT_KEY, port=None)"
      ],
      "metadata": {
        "id": "bCEct2ZjIk_H"
      },
      "execution_count": null,
      "outputs": []
    },
    {
      "cell_type": "markdown",
      "source": [
        "### Create Documents"
      ],
      "metadata": {
        "id": "rv7GrVdQKppy"
      }
    },
    {
      "cell_type": "code",
      "source": [
        "documents = []"
      ],
      "metadata": {
        "id": "mFCnEkWQK2_p"
      },
      "execution_count": null,
      "outputs": []
    },
    {
      "cell_type": "code",
      "source": [
        "for index, row in df.iterrows():\n",
        "    product_title = row['product_title']\n",
        "    product_description = row['product_description']\n",
        "    review = row['review']\n",
        "\n",
        "    # Combine product information and review into a single document\n",
        "    document = f\"Index: {index}\\nTitle: {product_title}\\nDescription: {product_description}\\nReview: {review}\"\n",
        "\n",
        "    documents.append(document)"
      ],
      "metadata": {
        "id": "IiZ2QgD1Kr5R"
      },
      "execution_count": null,
      "outputs": []
    },
    {
      "cell_type": "code",
      "source": [
        "len(documents)"
      ],
      "metadata": {
        "colab": {
          "base_uri": "https://localhost:8080/"
        },
        "id": "pm_c7JE9JXPX",
        "outputId": "890fce49-3252-46af-b7c0-1bd5f0d27064"
      },
      "execution_count": null,
      "outputs": [
        {
          "output_type": "execute_result",
          "data": {
            "text/plain": [
              "900"
            ]
          },
          "metadata": {},
          "execution_count": 14
        }
      ]
    },
    {
      "cell_type": "code",
      "source": [
        "documents[0]"
      ],
      "metadata": {
        "colab": {
          "base_uri": "https://localhost:8080/",
          "height": 89
        },
        "id": "e2SruLbHeNhe",
        "outputId": "d1a30f08-f77b-4475-976a-e700ee4a83ba"
      },
      "execution_count": null,
      "outputs": [
        {
          "output_type": "execute_result",
          "data": {
            "text/plain": [
              "\"Index: 0\\nTitle: Hammer\\nDescription: This 16 oz claw hammer is perfect for general carpentry and DIY projects. It features a comfortable grip and a durable steel head.\\nReview: I've been using this hammer for a few months now, and it's become my go-to tool for all my DIY projects. The 16 oz weight is perfect for driving nails without too much effort, and the claw is great for removing them. The grip is comfortable, even during extended use, and I haven't noticed any wear on it yet. The steel head is incredibly durable and shows no signs of rust or damage.\""
            ],
            "application/vnd.google.colaboratory.intrinsic+json": {
              "type": "string"
            }
          },
          "metadata": {},
          "execution_count": 15
        }
      ]
    },
    {
      "cell_type": "markdown",
      "source": [
        "### Make data buckets"
      ],
      "metadata": {
        "id": "6bUkqwAvLhdn"
      }
    },
    {
      "cell_type": "code",
      "source": [
        "def create_buckets(items, num_subsets=100, subset_size=10, min_occurrences=3):\n",
        "    \"\"\"\n",
        "    Creates N subset lists from a given list of items, ensuring each item\n",
        "    appears at least Q times across all subsets.\n",
        "\n",
        "    Args:\n",
        "        items: The original list of items.\n",
        "        num_subsets: The desired number of subsets.\n",
        "        subset_size: The desired size of each subset.\n",
        "        min_occurrences: The minimum number of times each item should appear.\n",
        "\n",
        "    Returns:\n",
        "        A list of N subset lists, or None if it's impossible to fulfill the criteria.\n",
        "    \"\"\"\n",
        "\n",
        "    if subset_size > len(items):\n",
        "        return None  # Subset size cannot be larger than the original list\n",
        "\n",
        "    total_required_occurrences = len(items) * min_occurrences\n",
        "    total_subset_items = num_subsets * subset_size\n",
        "\n",
        "    if total_subset_items < total_required_occurrences:\n",
        "        return None #Impossible to fulfill min_occurrences requirement.\n",
        "\n",
        "    item_counts = {item: 0 for item in items}\n",
        "    subsets = [[] for _ in range(num_subsets)]\n",
        "\n",
        "    # Distribute items to meet minimum occurrences\n",
        "    for _ in range(min_occurrences):\n",
        "        for item in items:\n",
        "            placed = False\n",
        "            attempts = 0\n",
        "            while not placed and attempts < 10*num_subsets: #Try to distribute somewhat evenly.\n",
        "                subset_index = random.randrange(num_subsets)\n",
        "                if len(subsets[subset_index]) < subset_size:\n",
        "                    subsets[subset_index].append(item)\n",
        "                    item_counts[item] += 1\n",
        "                    placed = True\n",
        "                attempts += 1\n",
        "\n",
        "\n",
        "    # Fill remaining slots in subsets with random items\n",
        "    for subset in subsets:\n",
        "        while len(subset) < subset_size:\n",
        "            available_items = [item for item in items if item_counts[item] < (total_subset_items // len(items)) + 1] # try not to overpopulate one item.\n",
        "            if not available_items:\n",
        "                available_items = items # if there are no items that haven't been overpopulated, just pick from the original list.\n",
        "            random_item = random.choice(available_items)\n",
        "            subset.append(random_item)\n",
        "            item_counts[random_item] += 1\n",
        "\n",
        "    return subsets"
      ],
      "metadata": {
        "id": "3aoVN2QzJhPy"
      },
      "execution_count": null,
      "outputs": []
    },
    {
      "cell_type": "code",
      "source": [
        "buckets = create_buckets(documents, 500, 25, 3)"
      ],
      "metadata": {
        "id": "qGqnImt9fG9N"
      },
      "execution_count": null,
      "outputs": []
    },
    {
      "cell_type": "markdown",
      "source": [
        "### Generate questions for each bucket"
      ],
      "metadata": {
        "id": "Xs1Uuv7jMf6x"
      }
    },
    {
      "cell_type": "code",
      "source": [
        "NUM_Q_PER_BUCKET = 12"
      ],
      "metadata": {
        "id": "NoqiH0OgfiH-"
      },
      "execution_count": null,
      "outputs": []
    },
    {
      "cell_type": "code",
      "source": [
        "system_prompt = \"\"\"Given the following list of documents in a dataset, you have to come up with \"\"\" + str(NUM_Q_PER_BUCKET) + \"\"\" queries that can be asked on that dataset such that:\n",
        "1. 3 of the queries can bring up good search results\n",
        "2. 3 of the queries are complex and need strong algorithms for better results\n",
        "3. 3 of the queries are good for multiple document outcomes, assign multiple values to matched_indexes field.\n",
        "4. 3 of the queries should not have any responses from the dataset, use invented words, questions with no sense and non english languages\n",
        "5. Don't provide any numbering to the query phrases.\n",
        "6. 4 queries will be between 1 to 3 words.\n",
        "7. 4 queries will be between 4 to 6 words.\n",
        "8. 4 queries will be 7 or more words.\n",
        "\n",
        "documents:\n",
        "\n",
        "\"\"\""
      ],
      "metadata": {
        "id": "sAd7QyDRZVAN"
      },
      "execution_count": null,
      "outputs": []
    },
    {
      "cell_type": "code",
      "source": [
        "prompt = system_prompt + \"\\n\\n\".join(buckets[0])\n",
        "response = getGeminiResponse(prompt)\n",
        "response"
      ],
      "metadata": {
        "colab": {
          "base_uri": "https://localhost:8080/",
          "height": 143
        },
        "id": "bJRiivCng4VM",
        "outputId": "04dbf76d-7ffd-4c19-e917-ea434cbd62be"
      },
      "execution_count": null,
      "outputs": [
        {
          "output_type": "execute_result",
          "data": {
            "text/plain": [
              "'{\\n  \"query_pair\": [\\n    {\\n      \"answer\": \"Index 0, 4, 12\",\\n      \"matched_indexes\": [\\n        0,\\n        4,\\n        12\\n      ],\\n      \"question\": \"Best hammer for DIY projects\"\\n    },\\n    {\\n      \"answer\": \"Index 272, 274\",\\n      \"matched_indexes\": [\\n        272,\\n        274\\n      ],\\n      \"question\": \"9-inch paint roller review\"\\n    },\\n    {\\n      \"answer\": \"Index 203, 204, 208\",\\n      \"matched_indexes\": [\\n        203,\\n        204,\\n        208\\n      ],\\n      \"question\": \"Pliers set for professional use\"\\n    },\\n    {\\n      \"answer\": \"Index 617\",\\n      \"matched_indexes\": [\\n        617\\n      ],\\n      \"question\": \"Socket set with quick release\"\\n    },\\n    {\\n      \"answer\": \"Index 449\",\\n      \"matched_indexes\": [\\n        449\\n      ],\\n      \"question\": \"Nail gun with ergonomic handle\"\\n    },\\n    {\\n      \"answer\": \"Index 498\",\\n      \"matched_indexes\": [\\n        498\\n      ],\\n      \"question\": \"Angle grinder for heavy duty tasks\"\\n    },\\n    {\\n      \"answer\": \"Index 203, 204, 208\",\\n      \"matched_indexes\": [\\n        203,\\n        204,\\n        208\\n      ],\\n      \"question\": \"Pliers sets with non-slip handles and durable cases\"\\n    },\\n    {\\n      \"answer\": \"Index 272, 274, 291\",\\n      \"matched_indexes\": [\\n        272,\\n        274,\\n        291\\n      ],\\n      \"question\": \"Paint rollers for smooth application and small projects\"\\n    },\\n    {\\n      \"answer\": \"Index 0, 4, 12\",\\n      \"matched_indexes\": [\\n        0,\\n        4,\\n        12\\n      ],\\n      \"question\": \"Hammers designed for carpentry and construction work\"\\n    },\\n    {\\n      \"answer\": \"No results found\",\\n      \"matched_indexes\": [],\\n      \"question\": \"What is a flibbertigibbet?\"\\n    },\\n    {\\n      \"answer\": \"No results found\",\\n      \"matched_indexes\": [],\\n      \"question\": \"Quel est le meilleur outil?\"\\n    },\\n    {\\n      \"answer\": \"No results found\",\\n      \"matched_indexes\": [],\\n      \"question\": \"Blarglefenstein tool reviews\"\\n    }\\n  ]\\n}'"
            ],
            "application/vnd.google.colaboratory.intrinsic+json": {
              "type": "string"
            }
          },
          "metadata": {},
          "execution_count": 20
        }
      ]
    },
    {
      "cell_type": "code",
      "source": [
        "res = json.loads(response)\n",
        "res"
      ],
      "metadata": {
        "colab": {
          "base_uri": "https://localhost:8080/"
        },
        "id": "zlMERP_3g_dJ",
        "outputId": "1d10f043-6e9d-4738-dbbe-fe59acf91212"
      },
      "execution_count": null,
      "outputs": [
        {
          "output_type": "execute_result",
          "data": {
            "text/plain": [
              "{'query_pair': [{'answer': 'Index 0, 4, 12',\n",
              "   'matched_indexes': [0, 4, 12],\n",
              "   'question': 'Best hammer for DIY projects'},\n",
              "  {'answer': 'Index 272, 274',\n",
              "   'matched_indexes': [272, 274],\n",
              "   'question': '9-inch paint roller review'},\n",
              "  {'answer': 'Index 203, 204, 208',\n",
              "   'matched_indexes': [203, 204, 208],\n",
              "   'question': 'Pliers set for professional use'},\n",
              "  {'answer': 'Index 617',\n",
              "   'matched_indexes': [617],\n",
              "   'question': 'Socket set with quick release'},\n",
              "  {'answer': 'Index 449',\n",
              "   'matched_indexes': [449],\n",
              "   'question': 'Nail gun with ergonomic handle'},\n",
              "  {'answer': 'Index 498',\n",
              "   'matched_indexes': [498],\n",
              "   'question': 'Angle grinder for heavy duty tasks'},\n",
              "  {'answer': 'Index 203, 204, 208',\n",
              "   'matched_indexes': [203, 204, 208],\n",
              "   'question': 'Pliers sets with non-slip handles and durable cases'},\n",
              "  {'answer': 'Index 272, 274, 291',\n",
              "   'matched_indexes': [272, 274, 291],\n",
              "   'question': 'Paint rollers for smooth application and small projects'},\n",
              "  {'answer': 'Index 0, 4, 12',\n",
              "   'matched_indexes': [0, 4, 12],\n",
              "   'question': 'Hammers designed for carpentry and construction work'},\n",
              "  {'answer': 'No results found',\n",
              "   'matched_indexes': [],\n",
              "   'question': 'What is a flibbertigibbet?'},\n",
              "  {'answer': 'No results found',\n",
              "   'matched_indexes': [],\n",
              "   'question': 'Quel est le meilleur outil?'},\n",
              "  {'answer': 'No results found',\n",
              "   'matched_indexes': [],\n",
              "   'question': 'Blarglefenstein tool reviews'}]}"
            ]
          },
          "metadata": {},
          "execution_count": 21
        }
      ]
    },
    {
      "cell_type": "code",
      "source": [
        "qna_dataset = []"
      ],
      "metadata": {
        "id": "wE24TL0ShIEc"
      },
      "execution_count": null,
      "outputs": []
    },
    {
      "cell_type": "code",
      "source": [
        "for bucket in tqdm(buckets):\n",
        "    prompt = system_prompt + \"\\n\\n\".join(bucket)\n",
        "    response = getGeminiResponse(prompt)\n",
        "    res = json.loads(response)\n",
        "    qna_dataset.extend(res['query_pair'])"
      ],
      "metadata": {
        "id": "EBRZoucvLmsZ",
        "colab": {
          "base_uri": "https://localhost:8080/"
        },
        "outputId": "a3edcfa4-5809-490b-ec69-41546ca4c403"
      },
      "execution_count": null,
      "outputs": [
        {
          "output_type": "stream",
          "name": "stderr",
          "text": [
            "100%|██████████| 500/500 [40:05<00:00,  4.81s/it]\n"
          ]
        }
      ]
    },
    {
      "cell_type": "markdown",
      "source": [
        "### Save dataset"
      ],
      "metadata": {
        "id": "sPWzBkd5a2sk"
      }
    },
    {
      "cell_type": "code",
      "source": [
        "len(qna_dataset)"
      ],
      "metadata": {
        "id": "TCT3bFUNEg2K",
        "outputId": "427d6054-b163-4321-fb57-93d0921d4233",
        "colab": {
          "base_uri": "https://localhost:8080/"
        }
      },
      "execution_count": null,
      "outputs": [
        {
          "output_type": "execute_result",
          "data": {
            "text/plain": [
              "6701"
            ]
          },
          "metadata": {},
          "execution_count": 25
        }
      ]
    },
    {
      "cell_type": "code",
      "source": [
        "with open('qna_dataset.json', 'w') as f:\n",
        "    json.dump(qna_dataset, f)"
      ],
      "metadata": {
        "id": "aeMopUXHaZvJ"
      },
      "execution_count": null,
      "outputs": []
    },
    {
      "cell_type": "code",
      "source": [],
      "metadata": {
        "id": "HMJx7430a96Z"
      },
      "execution_count": null,
      "outputs": []
    }
  ]
}