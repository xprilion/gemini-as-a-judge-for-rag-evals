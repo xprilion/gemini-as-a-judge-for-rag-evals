{
  "nbformat": 4,
  "nbformat_minor": 0,
  "metadata": {
    "colab": {
      "provenance": [],
      "authorship_tag": "ABX9TyOyrhA1i/ApeHhMwMDampxu",
      "include_colab_link": true
    },
    "kernelspec": {
      "name": "python3",
      "display_name": "Python 3"
    },
    "language_info": {
      "name": "python"
    }
  },
  "cells": [
    {
      "cell_type": "markdown",
      "metadata": {
        "id": "view-in-github",
        "colab_type": "text"
      },
      "source": [
        "<a href=\"https://colab.research.google.com/github/xprilion/gemini-as-a-judge-for-rag-evals/blob/main/Step_1_Problem_Context_The_RAG.ipynb\" target=\"_parent\"><img src=\"https://colab.research.google.com/assets/colab-badge.svg\" alt=\"Open In Colab\"/></a>"
      ]
    },
    {
      "cell_type": "markdown",
      "source": [
        "# Gemini As A Judge for RAG Evals"
      ],
      "metadata": {
        "id": "7z-PmxJzF3w5"
      }
    },
    {
      "cell_type": "markdown",
      "source": [
        "## The RAG"
      ],
      "metadata": {
        "id": "EZa7H_5XF-hb"
      }
    },
    {
      "cell_type": "markdown",
      "source": [
        "### 1. Load the datasets"
      ],
      "metadata": {
        "id": "HWjUjRwKG8XN"
      }
    },
    {
      "cell_type": "code",
      "execution_count": 10,
      "metadata": {
        "colab": {
          "base_uri": "https://localhost:8080/"
        },
        "id": "FBLjwX7fCl13",
        "outputId": "0b211f66-3610-4739-9dfd-060c09b6fcd9"
      },
      "outputs": [
        {
          "output_type": "stream",
          "name": "stdout",
          "text": [
            "--2025-03-01 08:04:16--  https://raw.githubusercontent.com/xprilion/gemini-as-a-judge-for-rag-evals/refs/heads/main/reviews.json\n",
            "Resolving raw.githubusercontent.com (raw.githubusercontent.com)... 185.199.108.133, 185.199.109.133, 185.199.110.133, ...\n",
            "Connecting to raw.githubusercontent.com (raw.githubusercontent.com)|185.199.108.133|:443... connected.\n",
            "HTTP request sent, awaiting response... 200 OK\n",
            "Length: 507865 (496K) [text/plain]\n",
            "Saving to: ‘reviews.json’\n",
            "\n",
            "\rreviews.json          0%[                    ]       0  --.-KB/s               \rreviews.json        100%[===================>] 495.96K  --.-KB/s    in 0.05s   \n",
            "\n",
            "2025-03-01 08:04:16 (9.94 MB/s) - ‘reviews.json’ saved [507865/507865]\n",
            "\n"
          ]
        }
      ],
      "source": [
        "!wget https://raw.githubusercontent.com/xprilion/gemini-as-a-judge-for-rag-evals/refs/heads/main/reviews.json"
      ]
    },
    {
      "cell_type": "markdown",
      "source": [
        "### Packages"
      ],
      "metadata": {
        "id": "i8siIxiEIu-2"
      }
    },
    {
      "cell_type": "code",
      "source": [
        "%%capture\n",
        "!pip install qdrant-client[fastembed]\n",
        "!pip install google-genai"
      ],
      "metadata": {
        "id": "UJy2rKEyIuoK"
      },
      "execution_count": 11,
      "outputs": []
    },
    {
      "cell_type": "markdown",
      "source": [
        "### Imports"
      ],
      "metadata": {
        "id": "rRd-Y1Z4HFWu"
      }
    },
    {
      "cell_type": "code",
      "source": [
        "import pandas as pd\n",
        "import json\n",
        "import os\n",
        "import time\n",
        "from tqdm import tqdm\n",
        "from google import genai\n",
        "from google.genai import types\n",
        "from qdrant_client import QdrantClient\n",
        "from qdrant_client.models import Distance, VectorParams\n",
        "import uuid\n",
        "\n",
        "from google.colab import userdata"
      ],
      "metadata": {
        "id": "u6landw4G5CS"
      },
      "execution_count": 12,
      "outputs": []
    },
    {
      "cell_type": "markdown",
      "source": [
        "### Helpers"
      ],
      "metadata": {
        "id": "6ASIJ0OTXUQ9"
      }
    },
    {
      "cell_type": "code",
      "source": [
        "collection_name = \"product_reviews\""
      ],
      "metadata": {
        "id": "M1-pzDF5ZMnw"
      },
      "execution_count": 13,
      "outputs": []
    },
    {
      "cell_type": "code",
      "source": [
        "GEMINI_KEY = userdata.get('GEMINI_API_KEY')\n",
        "gemini_client = genai.Client(\n",
        "    api_key=GEMINI_KEY\n",
        ")"
      ],
      "metadata": {
        "id": "gA4qxypZXVSU"
      },
      "execution_count": 14,
      "outputs": []
    },
    {
      "cell_type": "code",
      "source": [
        "def getGeminiResponse(prompt, max_tokens=8192, response_type=\"text/plain\"):\n",
        "    contents = [\n",
        "        types.Content(\n",
        "            role=\"user\",\n",
        "            parts=[\n",
        "                types.Part.from_text(\n",
        "                    text=prompt\n",
        "                ),\n",
        "            ],\n",
        "        ),\n",
        "    ]\n",
        "    generate_content_config = types.GenerateContentConfig(\n",
        "        temperature=0,\n",
        "        top_p=0.95,\n",
        "        top_k=40,\n",
        "        max_output_tokens=max_tokens,\n",
        "        response_mime_type=response_type,\n",
        "    )\n",
        "    response = gemini_client.models.generate_content(\n",
        "        model=\"gemini-2.0-flash\", contents=contents, config=generate_content_config\n",
        "    )\n",
        "    return response.text"
      ],
      "metadata": {
        "id": "-j7toHuxYuux"
      },
      "execution_count": 15,
      "outputs": []
    },
    {
      "cell_type": "code",
      "source": [
        "getGeminiResponse(\"What is 2+3?\")"
      ],
      "metadata": {
        "colab": {
          "base_uri": "https://localhost:8080/",
          "height": 35
        },
        "id": "Nm6lU5u6Y8WX",
        "outputId": "1b99d93e-5429-49bf-83d2-257db807bb9f"
      },
      "execution_count": 16,
      "outputs": [
        {
          "output_type": "execute_result",
          "data": {
            "text/plain": [
              "'2 + 3 = 5\\n'"
            ],
            "application/vnd.google.colaboratory.intrinsic+json": {
              "type": "string"
            }
          },
          "metadata": {},
          "execution_count": 16
        }
      ]
    },
    {
      "cell_type": "markdown",
      "source": [
        "### EDA"
      ],
      "metadata": {
        "id": "eRd7drJqHqGh"
      }
    },
    {
      "cell_type": "code",
      "source": [
        "df = pd.read_json('reviews.json')"
      ],
      "metadata": {
        "id": "8uMt4eB_HfuA"
      },
      "execution_count": 17,
      "outputs": []
    },
    {
      "cell_type": "code",
      "source": [
        "df.head()"
      ],
      "metadata": {
        "colab": {
          "base_uri": "https://localhost:8080/",
          "height": 206
        },
        "id": "tBRn0-xmHjHQ",
        "outputId": "1260ca75-6d77-4e1b-84fd-21fca63b58ae"
      },
      "execution_count": 18,
      "outputs": [
        {
          "output_type": "execute_result",
          "data": {
            "text/plain": [
              "  product_title                                product_description  \\\n",
              "0        Hammer  This 16 oz claw hammer is perfect for general ...   \n",
              "1        Hammer  This 16 oz claw hammer is perfect for general ...   \n",
              "2        Hammer  This 16 oz claw hammer is perfect for general ...   \n",
              "3        Hammer  This 16 oz claw hammer is perfect for general ...   \n",
              "4        Hammer  This 16 oz claw hammer is perfect for general ...   \n",
              "\n",
              "                                              review  \n",
              "0  I've been using this hammer for a few months n...  \n",
              "1  This hammer is a solid addition to my toolbox....  \n",
              "2  I purchased this hammer for some home renovati...  \n",
              "3  As a professional carpenter, I rely on my tool...  \n",
              "4  This hammer is a great value for the price. Th...  "
            ],
            "text/html": [
              "\n",
              "  <div id=\"df-707397b6-5982-4631-8f20-4451d4cd1e5e\" class=\"colab-df-container\">\n",
              "    <div>\n",
              "<style scoped>\n",
              "    .dataframe tbody tr th:only-of-type {\n",
              "        vertical-align: middle;\n",
              "    }\n",
              "\n",
              "    .dataframe tbody tr th {\n",
              "        vertical-align: top;\n",
              "    }\n",
              "\n",
              "    .dataframe thead th {\n",
              "        text-align: right;\n",
              "    }\n",
              "</style>\n",
              "<table border=\"1\" class=\"dataframe\">\n",
              "  <thead>\n",
              "    <tr style=\"text-align: right;\">\n",
              "      <th></th>\n",
              "      <th>product_title</th>\n",
              "      <th>product_description</th>\n",
              "      <th>review</th>\n",
              "    </tr>\n",
              "  </thead>\n",
              "  <tbody>\n",
              "    <tr>\n",
              "      <th>0</th>\n",
              "      <td>Hammer</td>\n",
              "      <td>This 16 oz claw hammer is perfect for general ...</td>\n",
              "      <td>I've been using this hammer for a few months n...</td>\n",
              "    </tr>\n",
              "    <tr>\n",
              "      <th>1</th>\n",
              "      <td>Hammer</td>\n",
              "      <td>This 16 oz claw hammer is perfect for general ...</td>\n",
              "      <td>This hammer is a solid addition to my toolbox....</td>\n",
              "    </tr>\n",
              "    <tr>\n",
              "      <th>2</th>\n",
              "      <td>Hammer</td>\n",
              "      <td>This 16 oz claw hammer is perfect for general ...</td>\n",
              "      <td>I purchased this hammer for some home renovati...</td>\n",
              "    </tr>\n",
              "    <tr>\n",
              "      <th>3</th>\n",
              "      <td>Hammer</td>\n",
              "      <td>This 16 oz claw hammer is perfect for general ...</td>\n",
              "      <td>As a professional carpenter, I rely on my tool...</td>\n",
              "    </tr>\n",
              "    <tr>\n",
              "      <th>4</th>\n",
              "      <td>Hammer</td>\n",
              "      <td>This 16 oz claw hammer is perfect for general ...</td>\n",
              "      <td>This hammer is a great value for the price. Th...</td>\n",
              "    </tr>\n",
              "  </tbody>\n",
              "</table>\n",
              "</div>\n",
              "    <div class=\"colab-df-buttons\">\n",
              "\n",
              "  <div class=\"colab-df-container\">\n",
              "    <button class=\"colab-df-convert\" onclick=\"convertToInteractive('df-707397b6-5982-4631-8f20-4451d4cd1e5e')\"\n",
              "            title=\"Convert this dataframe to an interactive table.\"\n",
              "            style=\"display:none;\">\n",
              "\n",
              "  <svg xmlns=\"http://www.w3.org/2000/svg\" height=\"24px\" viewBox=\"0 -960 960 960\">\n",
              "    <path d=\"M120-120v-720h720v720H120Zm60-500h600v-160H180v160Zm220 220h160v-160H400v160Zm0 220h160v-160H400v160ZM180-400h160v-160H180v160Zm440 0h160v-160H620v160ZM180-180h160v-160H180v160Zm440 0h160v-160H620v160Z\"/>\n",
              "  </svg>\n",
              "    </button>\n",
              "\n",
              "  <style>\n",
              "    .colab-df-container {\n",
              "      display:flex;\n",
              "      gap: 12px;\n",
              "    }\n",
              "\n",
              "    .colab-df-convert {\n",
              "      background-color: #E8F0FE;\n",
              "      border: none;\n",
              "      border-radius: 50%;\n",
              "      cursor: pointer;\n",
              "      display: none;\n",
              "      fill: #1967D2;\n",
              "      height: 32px;\n",
              "      padding: 0 0 0 0;\n",
              "      width: 32px;\n",
              "    }\n",
              "\n",
              "    .colab-df-convert:hover {\n",
              "      background-color: #E2EBFA;\n",
              "      box-shadow: 0px 1px 2px rgba(60, 64, 67, 0.3), 0px 1px 3px 1px rgba(60, 64, 67, 0.15);\n",
              "      fill: #174EA6;\n",
              "    }\n",
              "\n",
              "    .colab-df-buttons div {\n",
              "      margin-bottom: 4px;\n",
              "    }\n",
              "\n",
              "    [theme=dark] .colab-df-convert {\n",
              "      background-color: #3B4455;\n",
              "      fill: #D2E3FC;\n",
              "    }\n",
              "\n",
              "    [theme=dark] .colab-df-convert:hover {\n",
              "      background-color: #434B5C;\n",
              "      box-shadow: 0px 1px 3px 1px rgba(0, 0, 0, 0.15);\n",
              "      filter: drop-shadow(0px 1px 2px rgba(0, 0, 0, 0.3));\n",
              "      fill: #FFFFFF;\n",
              "    }\n",
              "  </style>\n",
              "\n",
              "    <script>\n",
              "      const buttonEl =\n",
              "        document.querySelector('#df-707397b6-5982-4631-8f20-4451d4cd1e5e button.colab-df-convert');\n",
              "      buttonEl.style.display =\n",
              "        google.colab.kernel.accessAllowed ? 'block' : 'none';\n",
              "\n",
              "      async function convertToInteractive(key) {\n",
              "        const element = document.querySelector('#df-707397b6-5982-4631-8f20-4451d4cd1e5e');\n",
              "        const dataTable =\n",
              "          await google.colab.kernel.invokeFunction('convertToInteractive',\n",
              "                                                    [key], {});\n",
              "        if (!dataTable) return;\n",
              "\n",
              "        const docLinkHtml = 'Like what you see? Visit the ' +\n",
              "          '<a target=\"_blank\" href=https://colab.research.google.com/notebooks/data_table.ipynb>data table notebook</a>'\n",
              "          + ' to learn more about interactive tables.';\n",
              "        element.innerHTML = '';\n",
              "        dataTable['output_type'] = 'display_data';\n",
              "        await google.colab.output.renderOutput(dataTable, element);\n",
              "        const docLink = document.createElement('div');\n",
              "        docLink.innerHTML = docLinkHtml;\n",
              "        element.appendChild(docLink);\n",
              "      }\n",
              "    </script>\n",
              "  </div>\n",
              "\n",
              "\n",
              "<div id=\"df-3854a865-97f3-4afe-a86d-b71602b1d5ce\">\n",
              "  <button class=\"colab-df-quickchart\" onclick=\"quickchart('df-3854a865-97f3-4afe-a86d-b71602b1d5ce')\"\n",
              "            title=\"Suggest charts\"\n",
              "            style=\"display:none;\">\n",
              "\n",
              "<svg xmlns=\"http://www.w3.org/2000/svg\" height=\"24px\"viewBox=\"0 0 24 24\"\n",
              "     width=\"24px\">\n",
              "    <g>\n",
              "        <path d=\"M19 3H5c-1.1 0-2 .9-2 2v14c0 1.1.9 2 2 2h14c1.1 0 2-.9 2-2V5c0-1.1-.9-2-2-2zM9 17H7v-7h2v7zm4 0h-2V7h2v10zm4 0h-2v-4h2v4z\"/>\n",
              "    </g>\n",
              "</svg>\n",
              "  </button>\n",
              "\n",
              "<style>\n",
              "  .colab-df-quickchart {\n",
              "      --bg-color: #E8F0FE;\n",
              "      --fill-color: #1967D2;\n",
              "      --hover-bg-color: #E2EBFA;\n",
              "      --hover-fill-color: #174EA6;\n",
              "      --disabled-fill-color: #AAA;\n",
              "      --disabled-bg-color: #DDD;\n",
              "  }\n",
              "\n",
              "  [theme=dark] .colab-df-quickchart {\n",
              "      --bg-color: #3B4455;\n",
              "      --fill-color: #D2E3FC;\n",
              "      --hover-bg-color: #434B5C;\n",
              "      --hover-fill-color: #FFFFFF;\n",
              "      --disabled-bg-color: #3B4455;\n",
              "      --disabled-fill-color: #666;\n",
              "  }\n",
              "\n",
              "  .colab-df-quickchart {\n",
              "    background-color: var(--bg-color);\n",
              "    border: none;\n",
              "    border-radius: 50%;\n",
              "    cursor: pointer;\n",
              "    display: none;\n",
              "    fill: var(--fill-color);\n",
              "    height: 32px;\n",
              "    padding: 0;\n",
              "    width: 32px;\n",
              "  }\n",
              "\n",
              "  .colab-df-quickchart:hover {\n",
              "    background-color: var(--hover-bg-color);\n",
              "    box-shadow: 0 1px 2px rgba(60, 64, 67, 0.3), 0 1px 3px 1px rgba(60, 64, 67, 0.15);\n",
              "    fill: var(--button-hover-fill-color);\n",
              "  }\n",
              "\n",
              "  .colab-df-quickchart-complete:disabled,\n",
              "  .colab-df-quickchart-complete:disabled:hover {\n",
              "    background-color: var(--disabled-bg-color);\n",
              "    fill: var(--disabled-fill-color);\n",
              "    box-shadow: none;\n",
              "  }\n",
              "\n",
              "  .colab-df-spinner {\n",
              "    border: 2px solid var(--fill-color);\n",
              "    border-color: transparent;\n",
              "    border-bottom-color: var(--fill-color);\n",
              "    animation:\n",
              "      spin 1s steps(1) infinite;\n",
              "  }\n",
              "\n",
              "  @keyframes spin {\n",
              "    0% {\n",
              "      border-color: transparent;\n",
              "      border-bottom-color: var(--fill-color);\n",
              "      border-left-color: var(--fill-color);\n",
              "    }\n",
              "    20% {\n",
              "      border-color: transparent;\n",
              "      border-left-color: var(--fill-color);\n",
              "      border-top-color: var(--fill-color);\n",
              "    }\n",
              "    30% {\n",
              "      border-color: transparent;\n",
              "      border-left-color: var(--fill-color);\n",
              "      border-top-color: var(--fill-color);\n",
              "      border-right-color: var(--fill-color);\n",
              "    }\n",
              "    40% {\n",
              "      border-color: transparent;\n",
              "      border-right-color: var(--fill-color);\n",
              "      border-top-color: var(--fill-color);\n",
              "    }\n",
              "    60% {\n",
              "      border-color: transparent;\n",
              "      border-right-color: var(--fill-color);\n",
              "    }\n",
              "    80% {\n",
              "      border-color: transparent;\n",
              "      border-right-color: var(--fill-color);\n",
              "      border-bottom-color: var(--fill-color);\n",
              "    }\n",
              "    90% {\n",
              "      border-color: transparent;\n",
              "      border-bottom-color: var(--fill-color);\n",
              "    }\n",
              "  }\n",
              "</style>\n",
              "\n",
              "  <script>\n",
              "    async function quickchart(key) {\n",
              "      const quickchartButtonEl =\n",
              "        document.querySelector('#' + key + ' button');\n",
              "      quickchartButtonEl.disabled = true;  // To prevent multiple clicks.\n",
              "      quickchartButtonEl.classList.add('colab-df-spinner');\n",
              "      try {\n",
              "        const charts = await google.colab.kernel.invokeFunction(\n",
              "            'suggestCharts', [key], {});\n",
              "      } catch (error) {\n",
              "        console.error('Error during call to suggestCharts:', error);\n",
              "      }\n",
              "      quickchartButtonEl.classList.remove('colab-df-spinner');\n",
              "      quickchartButtonEl.classList.add('colab-df-quickchart-complete');\n",
              "    }\n",
              "    (() => {\n",
              "      let quickchartButtonEl =\n",
              "        document.querySelector('#df-3854a865-97f3-4afe-a86d-b71602b1d5ce button');\n",
              "      quickchartButtonEl.style.display =\n",
              "        google.colab.kernel.accessAllowed ? 'block' : 'none';\n",
              "    })();\n",
              "  </script>\n",
              "</div>\n",
              "\n",
              "    </div>\n",
              "  </div>\n"
            ],
            "application/vnd.google.colaboratory.intrinsic+json": {
              "type": "dataframe",
              "variable_name": "df",
              "summary": "{\n  \"name\": \"df\",\n  \"rows\": 900,\n  \"fields\": [\n    {\n      \"column\": \"product_title\",\n      \"properties\": {\n        \"dtype\": \"category\",\n        \"num_unique_values\": 30,\n        \"samples\": [\n          \"Safety Glasses\",\n          \"Paint Sprayer\",\n          \"Caulking Gun\"\n        ],\n        \"semantic_type\": \"\",\n        \"description\": \"\"\n      }\n    },\n    {\n      \"column\": \"product_description\",\n      \"properties\": {\n        \"dtype\": \"category\",\n        \"num_unique_values\": 90,\n        \"samples\": [\n          \"This 20-gallon vertical air compressor is designed for heavy-duty use. The oil-free pump requires minimal maintenance.\",\n          \"This 48-inch level is ideal for large projects. The shock-absorbing end caps protect the level from damage.\",\n          \"This 6-piece chisel set is perfect for woodworking projects. The beveled edges ensure precise cuts.\"\n        ],\n        \"semantic_type\": \"\",\n        \"description\": \"\"\n      }\n    },\n    {\n      \"column\": \"review\",\n      \"properties\": {\n        \"dtype\": \"string\",\n        \"num_unique_values\": 890,\n        \"samples\": [\n          \"As a professional painter, I can say this 12-inch paint roller is one of the best I've used. The microfiber cover is top-notch, holding a lot of paint and providing smooth, even coverage. It's perfect for large surfaces like walls and ceilings. The roller is also lightweight, which reduces fatigue during long jobs. Cleaning it is a breeze, and it dries quickly.\",\n          \"This is the best nail gun I've ever used. The battery lasts all day, and the anti-jam mechanism is incredibly effective. It's lightweight and well-balanced, making it easy to use for extended periods. The power and precision are top-notch, and it's perfect for both professional and DIY use. I highly recommend it to anyone in need of a reliable nail gun.\",\n          \"I've been using this 15-piece precision screwdriver set for a few months now, and it has been a game-changer for my electronics repair projects. The ergonomic handles are incredibly comfortable, even during extended use. The variety of screwdriver heads included in the set has allowed me to tackle a wide range of tasks, from fixing my laptop to repairing small kitchen appliances. The magnetic tips are a nice touch, making it easy to keep track of tiny screws.\"\n        ],\n        \"semantic_type\": \"\",\n        \"description\": \"\"\n      }\n    }\n  ]\n}"
            }
          },
          "metadata": {},
          "execution_count": 18
        }
      ]
    },
    {
      "cell_type": "markdown",
      "source": [
        "### Connect Qdrant"
      ],
      "metadata": {
        "id": "-RdkaI2JILgj"
      }
    },
    {
      "cell_type": "code",
      "source": [
        "QDRANT_URL = \"https://qdrant-1.sg-1.cloudtop.dev\"\n",
        "QDRANT_KEY = userdata.get('PERSONAL_QDRANT_KEY')"
      ],
      "metadata": {
        "id": "_TUJ-RE4H8x2"
      },
      "execution_count": 19,
      "outputs": []
    },
    {
      "cell_type": "code",
      "source": [
        "qdrant_client = QdrantClient(url=QDRANT_URL, api_key=QDRANT_KEY, port=None)"
      ],
      "metadata": {
        "id": "bCEct2ZjIk_H"
      },
      "execution_count": 20,
      "outputs": []
    },
    {
      "cell_type": "markdown",
      "source": [
        "### Create Documents"
      ],
      "metadata": {
        "id": "rv7GrVdQKppy"
      }
    },
    {
      "cell_type": "code",
      "source": [
        "documents = []\n",
        "metadatas = []\n",
        "ids = []"
      ],
      "metadata": {
        "id": "mFCnEkWQK2_p"
      },
      "execution_count": 21,
      "outputs": []
    },
    {
      "cell_type": "code",
      "source": [
        "for index, row in df.iterrows():\n",
        "    product_title = row['product_title']\n",
        "    product_description = row['product_description']\n",
        "    review = row['review']\n",
        "\n",
        "    # Combine product information and review into a single document\n",
        "    document = f\"Title: {product_title}\\nDescription: {product_description}\\nReview: {review}\"\n",
        "\n",
        "    # Create metadata dictionary\n",
        "    metadata = {\n",
        "        \"product_title\": product_title,\n",
        "        \"product_description\": product_description,\n",
        "        \"review\": review,\n",
        "        \"index\": index, # add index for reference\n",
        "    }\n",
        "\n",
        "    # Generate a unique ID\n",
        "    doc_id = str(uuid.uuid4())\n",
        "\n",
        "    documents.append(document)\n",
        "    metadatas.append(metadata)\n",
        "    ids.append(doc_id)"
      ],
      "metadata": {
        "id": "IiZ2QgD1Kr5R"
      },
      "execution_count": 22,
      "outputs": []
    },
    {
      "cell_type": "code",
      "source": [
        "len(documents)"
      ],
      "metadata": {
        "colab": {
          "base_uri": "https://localhost:8080/"
        },
        "id": "pm_c7JE9JXPX",
        "outputId": "7a041520-a9ee-4771-fba1-e5cdc41dce23"
      },
      "execution_count": 23,
      "outputs": [
        {
          "output_type": "execute_result",
          "data": {
            "text/plain": [
              "900"
            ]
          },
          "metadata": {},
          "execution_count": 23
        }
      ]
    },
    {
      "cell_type": "markdown",
      "source": [
        "### Load data into qdrant"
      ],
      "metadata": {
        "id": "6bUkqwAvLhdn"
      }
    },
    {
      "cell_type": "code",
      "source": [
        "%%capture\n",
        "\n",
        "qdrant_client.add(\n",
        "    collection_name=collection_name,\n",
        "    documents=documents,\n",
        "    metadata=metadatas,\n",
        "    ids=ids\n",
        ")"
      ],
      "metadata": {
        "id": "3aoVN2QzJhPy"
      },
      "execution_count": 24,
      "outputs": []
    },
    {
      "cell_type": "markdown",
      "source": [
        "### Test Retrieval"
      ],
      "metadata": {
        "id": "Xs1Uuv7jMf6x"
      }
    },
    {
      "cell_type": "code",
      "source": [
        "user_query = \"What are the key features of the heavy-duty workbench?\""
      ],
      "metadata": {
        "id": "sAd7QyDRZVAN"
      },
      "execution_count": 25,
      "outputs": []
    },
    {
      "cell_type": "code",
      "source": [
        "search_result = qdrant_client.query(collection_name=collection_name, query_text=user_query)"
      ],
      "metadata": {
        "id": "EBRZoucvLmsZ"
      },
      "execution_count": 26,
      "outputs": []
    },
    {
      "cell_type": "code",
      "source": [
        "for result in search_result:\n",
        "    print(result.document)\n",
        "    print(\"---\")"
      ],
      "metadata": {
        "colab": {
          "base_uri": "https://localhost:8080/"
        },
        "id": "ohK91zMsMsdc",
        "outputId": "1ed7868b-6df7-4123-d332-d7e04967b147"
      },
      "execution_count": 27,
      "outputs": [
        {
          "output_type": "stream",
          "name": "stdout",
          "text": [
            "Title: Workbench\n",
            "Description: A heavy-duty workbench with a large work surface and integrated power strip. The pegboard back allows for convenient tool storage.\n",
            "Review: I've had this workbench for a few months now, and it has been a great addition to my workshop. The large work surface is perfect for my projects, and the integrated power strip is very convenient. The pegboard back is a nice feature for keeping my tools organized and within reach. The bench is very sturdy and can handle heavy loads without any issues. Assembly was straightforward, and the instructions were easy to follow. Highly recommend this workbench.\n",
            "---\n",
            "Title: Workbench\n",
            "Description: A heavy-duty workbench with a large work surface and integrated power strip. The pegboard back allows for convenient tool storage.\n",
            "Review: I bought this workbench for my garage, and it has been a great addition. The large work surface is perfect for my projects, and the integrated power strip is very convenient. The pegboard back is a nice feature for keeping my tools organized and within reach. The bench is very sturdy and doesn't wobble, even when I'm working on heavy projects. Assembly was easy, and the instructions were clear. Overall, a great purchase.\n",
            "---\n",
            "Title: Workbench\n",
            "Description: A heavy-duty workbench with a large work surface and integrated power strip. The pegboard back allows for convenient tool storage.\n",
            "Review: This workbench exceeded my expectations. The heavy-duty construction means it doesn't wobble or shake, even when I'm working on large projects. The integrated power strip is a lifesaver, allowing me to plug in multiple tools without needing extra extension cords. The pegboard back is great for tool storage, and I've added a few hooks to keep everything organized. The work surface is spacious and easy to clean. Overall, a fantastic addition to my workshop.\n",
            "---\n",
            "Title: Workbench\n",
            "Description: A heavy-duty workbench with a large work surface and integrated power strip. The pegboard back allows for convenient tool storage.\n",
            "Review: This workbench has been a fantastic addition to my workshop. The large work surface gives me plenty of room to spread out my materials, and the integrated power strip is perfect for my power tools. The pegboard back is a nice touch, and I've hung all my frequently used tools there for easy access. The bench is very stable and doesn't move around while I'm working. It was a bit pricey, but the quality is worth it.\n",
            "---\n",
            "Title: Workbench\n",
            "Description: A heavy-duty workbench with a large work surface and integrated power strip. The pegboard back allows for convenient tool storage.\n",
            "Review: I've been using this workbench for about six months now, and it has been a game-changer in my garage. The large work surface is perfect for all my projects, and the integrated power strip is incredibly convenient for plugging in my tools. The pegboard back is a fantastic feature for keeping my tools organized and within reach. The bench is very sturdy and can handle heavy loads without any issues. Assembly was straightforward, and the instructions were clear. Highly recommend this workbench for any DIY enthusiast.\n",
            "---\n",
            "Title: Workbench\n",
            "Description: A heavy-duty workbench with a large work surface and integrated power strip. The pegboard back allows for convenient tool storage.\n",
            "Review: This workbench is exactly what I needed for my garage. The large work surface is perfect for my various DIY projects, and the integrated power strip is incredibly convenient. The pegboard back is a great feature for tool storage, and I've added a few bins to keep everything organized. The bench is very sturdy and doesn't wobble, even when I'm working on heavy projects. Assembly was easy, and the instructions were clear. Overall, a great purchase.\n",
            "---\n",
            "Title: Workbench\n",
            "Description: A heavy-duty workbench with a large work surface and integrated power strip. The pegboard back allows for convenient tool storage.\n",
            "Review: I purchased this workbench for my woodworking projects, and it has been fantastic. The large work surface gives me plenty of room to spread out my materials, and the integrated power strip is perfect for my power tools. The pegboard back is a nice touch, and I've hung all my frequently used tools there for easy access. The bench is very stable and doesn't move around while I'm working. It was a bit pricey, but the quality is worth it.\n",
            "---\n",
            "Title: Workbench\n",
            "Description: A heavy-duty workbench with a large work surface and integrated power strip. The pegboard back allows for convenient tool storage.\n",
            "Review: As a professional carpenter, I needed a reliable and sturdy workbench, and this one fits the bill perfectly. The heavy-duty construction can handle the weight of my tools and materials without any problem. The integrated power strip is a great feature, saving me from constantly searching for outlets. The pegboard back is very useful for keeping my tools organized. The work surface is large enough for all my projects, and the bench itself is very stable. Highly recommend for anyone in need of a solid workbench.\n",
            "---\n",
            "Title: Workbench\n",
            "Description: A heavy-duty workbench with a large work surface and integrated power strip. The pegboard back allows for convenient tool storage.\n",
            "Review: As a professional carpenter, I needed a reliable and sturdy workbench, and this one fits the bill perfectly. The heavy-duty construction can handle the weight of my tools and materials without any problem. The integrated power strip is a great feature, saving me from constantly searching for outlets. The pegboard back is very useful for keeping my tools organized. The work surface is large enough for all my projects, and the bench itself is very stable. Highly recommend for anyone in need of a solid workbench.\n",
            "---\n",
            "Title: Workbench\n",
            "Description: A heavy-duty workbench with a large work surface and integrated power strip. The pegboard back allows for convenient tool storage.\n",
            "Review: This workbench is a solid investment for any DIY enthusiast. The heavy-duty construction means it can handle heavy loads without any issues. The integrated power strip is a fantastic feature, allowing me to plug in multiple tools at once. The pegboard back is great for tool storage, and I've added a few hooks to keep everything organized. The work surface is spacious and easy to clean. Overall, a fantastic addition to my workshop.\n",
            "---\n"
          ]
        }
      ]
    },
    {
      "cell_type": "code",
      "source": [
        "def getRagResponse(question):\n",
        "    search_result = qdrant_client.query(collection_name=collection_name, query_text=question)\n",
        "    system_prompt = \"\"\"\n",
        "      You are an intelligent assistant designed to provide accurate and informative answers based on retrieved documents.\n",
        "\n",
        "      Your primary task is to:\n",
        "\n",
        "      Understand the user's query.\n",
        "      Retrieve relevant information from the provided context (documents).\n",
        "      Synthesize the retrieved information into a coherent and accurate response.\n",
        "\n",
        "      documents:\n",
        "\n",
        "      \"\"\"\n",
        "\n",
        "    documents_text = \"\"\n",
        "\n",
        "    doc_count = 1\n",
        "    for result in search_result:\n",
        "      documents_text += str(doc_count) + \": \\n\" + result.document + \"\\n\\n\"\n",
        "      doc_count += 1\n",
        "\n",
        "    users_query = \"\\n\\n The user is asking: \" + question\n",
        "\n",
        "    prompt = system_prompt + documents_text + users_query\n",
        "\n",
        "    response = getGeminiResponse(prompt)\n",
        "\n",
        "    return response"
      ],
      "metadata": {
        "id": "4PodJoeqWngx"
      },
      "execution_count": 28,
      "outputs": []
    },
    {
      "cell_type": "markdown",
      "source": [
        "### Test RAG"
      ],
      "metadata": {
        "id": "sPWzBkd5a2sk"
      }
    },
    {
      "cell_type": "code",
      "source": [
        "getRagResponse(user_query)"
      ],
      "metadata": {
        "colab": {
          "base_uri": "https://localhost:8080/",
          "height": 89
        },
        "id": "aeMopUXHaZvJ",
        "outputId": "05bd0d8c-baee-46b2-b974-19ca5c54940d"
      },
      "execution_count": 29,
      "outputs": [
        {
          "output_type": "execute_result",
          "data": {
            "text/plain": [
              "'Based on the provided documents, the key features of the heavy-duty workbench are:\\n\\n*   **Large work surface:** Provides ample space for various projects.\\n*   **Integrated power strip:** Offers convenient access to power for tools.\\n*   **Pegboard back:** Allows for organized tool storage and easy access.\\n*   **Heavy-duty construction:** Ensures sturdiness and stability, even with heavy loads.'"
            ],
            "application/vnd.google.colaboratory.intrinsic+json": {
              "type": "string"
            }
          },
          "metadata": {},
          "execution_count": 29
        }
      ]
    },
    {
      "cell_type": "code",
      "source": [],
      "metadata": {
        "id": "HMJx7430a96Z"
      },
      "execution_count": 29,
      "outputs": []
    }
  ]
}